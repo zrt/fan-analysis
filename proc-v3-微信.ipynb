{
 "cells": [
  {
   "cell_type": "code",
   "execution_count": 1,
   "metadata": {},
   "outputs": [],
   "source": [
    "# 所有的头"
   ]
  },
  {
   "cell_type": "code",
   "execution_count": 32,
   "metadata": {},
   "outputs": [],
   "source": [
    "import torch # for save\n",
    "import os\n",
    "from van import Fan\n",
    "from localconfig import config\n",
    "import datetime\n",
    "import random\n",
    "from pprint import pprint\n",
    "import html\n",
    "from pyltp import SentenceSplitter\n",
    "from pyltp import Postagger\n",
    "from pyltp import Segmentor\n",
    "from pyltp import NamedEntityRecognizer\n",
    "import matplotlib.pyplot as plt\n",
    "from tqdm import tqdm\n",
    "\n",
    "from PIL import Image\n",
    "from IPython.core.display import HTML \n",
    "import pyecharts\n",
    "from pyecharts import Pie\n",
    "from pyecharts import Line\n",
    "import reverse_geocoder as rg\n",
    "import requests\n",
    "from io import BytesIO\n",
    "%matplotlib inline\n",
    "\n",
    "plt.rcParams['font.sans-serif']=['FangSong'] #用来正常显示中文标签\n",
    "plt.rcParams['axes.unicode_minus']=False #用来正常显示负号\n"
   ]
  },
  {
   "cell_type": "code",
   "execution_count": 3,
   "metadata": {},
   "outputs": [],
   "source": [
    "# 所有的配置"
   ]
  },
  {
   "cell_type": "code",
   "execution_count": 4,
   "metadata": {},
   "outputs": [],
   "source": [
    "keyword = '微信' # 关注的关键词\n",
    "until_year = 2000 # 最早的年份\n",
    "until_num = 60000 # 截止的饭否数量\n",
    "timeout = (60,60) # 超时时间"
   ]
  },
  {
   "cell_type": "code",
   "execution_count": 5,
   "metadata": {},
   "outputs": [
    {
     "data": {
      "text/plain": [
       "{'oauth_token': '1405515-071ad3666b5af9441d5cbb0dc1d3985b',\n",
       " 'oauth_token_secret': '43cc293f5d127423f960b8636688577b'}"
      ]
     },
     "execution_count": 5,
     "metadata": {},
     "output_type": "execute_result"
    }
   ],
   "source": [
    "# 登录\n",
    "fan = Fan(config['Consumer key'], config['Consumer secret'])\n",
    "fan.xauth(config['my username'], config['my password'])"
   ]
  },
  {
   "cell_type": "code",
   "execution_count": 6,
   "metadata": {},
   "outputs": [
    {
     "data": {
      "text/plain": [
       "{'reset_time': 'Tue Mar 19 00:12:01 +0000 2019',\n",
       " 'remaining_hits': 150,\n",
       " 'hourly_limit': 150,\n",
       " 'reset_time_in_seconds': 1552954321}"
      ]
     },
     "execution_count": 6,
     "metadata": {},
     "output_type": "execute_result"
    }
   ],
   "source": [
    "# 本小时内可用API次数\n",
    "fan.request('GET', 'account/rate_limit_status', {}, timeout=timeout)"
   ]
  },
  {
   "cell_type": "code",
   "execution_count": 7,
   "metadata": {},
   "outputs": [],
   "source": [
    "# 采集关键词消息\n",
    "def datetimefromstr(s):\n",
    "    return datetime.datetime.strptime(s, '%a %b %d %H:%M:%S %z %Y')\n",
    "def get_status(keyword, until_year, until_num):\n",
    "    latest = fan.request('GET', 'search/public_timeline', {'q':keyword, 'count':60}, timeout=timeout)\n",
    "    \n",
    "    while True:\n",
    "        year = datetimefromstr(latest[-1]['created_at']).year\n",
    "        if len(latest) >= until_num:\n",
    "            break\n",
    "        if year < until_year:\n",
    "            break\n",
    "        print(len(latest), year,'/', until_num, until_year, end='\\r')\n",
    "        len_ = len(latest)\n",
    "        latest += fan.request('GET', 'search/public_timeline', { 'q':keyword, 'count':60, 'max_id':latest[-1]['id']}, timeout=timeout)[1:]\n",
    "        if len(latest) == len_:\n",
    "            break\n",
    "    return latest"
   ]
  },
  {
   "cell_type": "code",
   "execution_count": 8,
   "metadata": {
    "scrolled": true
   },
   "outputs": [
    {
     "name": "stdout",
     "output_type": "stream",
     "text": [
      "59945 2017 / 60000 2000\r"
     ]
    }
   ],
   "source": [
    "# 下载并暂存\n",
    "statuses = get_status(keyword, until_year, until_num)"
   ]
  },
  {
   "cell_type": "code",
   "execution_count": 9,
   "metadata": {},
   "outputs": [],
   "source": [
    "torch.save(statuses,'tmp_statuses.torch.pkl')"
   ]
  },
  {
   "cell_type": "code",
   "execution_count": 10,
   "metadata": {},
   "outputs": [],
   "source": [
    "# 恢复\n",
    "# statuses = torch.load('tmp_statuses.torch.pkl')"
   ]
  },
  {
   "cell_type": "code",
   "execution_count": 11,
   "metadata": {},
   "outputs": [
    {
     "name": "stdout",
     "output_type": "stream",
     "text": [
      "60004\n"
     ]
    }
   ],
   "source": [
    "print(len(statuses))"
   ]
  },
  {
   "cell_type": "code",
   "execution_count": null,
   "metadata": {},
   "outputs": [],
   "source": []
  },
  {
   "cell_type": "code",
   "execution_count": 12,
   "metadata": {},
   "outputs": [],
   "source": [
    "# common\n",
    "def get_top(l, num=5, reverse=False): # 从大到小\n",
    "    cnt = {}\n",
    "    for x in l:\n",
    "        if type(x) == tuple and len(x) == 3:\n",
    "            x = x[0]\n",
    "        if x not in cnt:\n",
    "            cnt[x] = 0\n",
    "        cnt[x] += 1\n",
    "    cnt_list = [(k,cnt[k],cnt[k]/len(l)) for k in cnt]\n",
    "    cnt_list = sorted(cnt_list, key=lambda x:x[1])[::-1]\n",
    "    if reverse:\n",
    "        cnt_list = cnt_list[::-1]\n",
    "    if num == -1:\n",
    "        return cnt_list\n",
    "    return cnt_list[:num]\n",
    "def huabing(y): # x [(label,,0.xxx)]\n",
    "    attr = [x[0] for x in y]\n",
    "    v1 = [x[2] for x in y]\n",
    "    if sum(v1) < 1.0:\n",
    "        attr.append('其他')\n",
    "        v1.append(1.0 - sum(v1))\n",
    "    pie = Pie('')\n",
    "    pie.add('', attr, v1, is_label_show=True)\n",
    "    return pie"
   ]
  },
  {
   "cell_type": "code",
   "execution_count": 13,
   "metadata": {},
   "outputs": [],
   "source": [
    "# 时间段分布"
   ]
  },
  {
   "cell_type": "code",
   "execution_count": 14,
   "metadata": {},
   "outputs": [
    {
     "name": "stdout",
     "output_type": "stream",
     "text": [
      "2017-04-02 01:43:39+00:00\n",
      "2019-03-18 23:07:18+00:00\n"
     ]
    }
   ],
   "source": [
    "print(datetimefromstr(statuses[-1]['created_at']))\n",
    "print(datetimefromstr(statuses[0]['created_at']))\n",
    "begin_year = datetimefromstr(statuses[-1]['created_at']).year\n",
    "end_year = datetimefromstr(statuses[0]['created_at']).year"
   ]
  },
  {
   "cell_type": "code",
   "execution_count": 15,
   "metadata": {},
   "outputs": [
    {
     "data": {
      "text/html": [
       "<script>\n",
       "    require.config({\n",
       "        paths: {\n",
       "            'echarts': '/nbextensions/echarts/echarts.min'\n",
       "        }\n",
       "    });\n",
       "</script>\n",
       "    <div id=\"5012b38fb6624785a18169a16ffea6b4\" style=\"width:800px;height:400px;\"></div>\n",
       "\n",
       "\n",
       "<script>\n",
       "    require(['echarts'], function(echarts) {\n",
       "        \n",
       "var myChart_5012b38fb6624785a18169a16ffea6b4 = echarts.init(document.getElementById('5012b38fb6624785a18169a16ffea6b4'), 'light', {renderer: 'canvas'});\n",
       "\n",
       "var option_5012b38fb6624785a18169a16ffea6b4 = {\n",
       "    \"title\": [\n",
       "        {\n",
       "            \"left\": \"auto\",\n",
       "            \"top\": \"auto\",\n",
       "            \"textStyle\": {\n",
       "                \"fontSize\": 18\n",
       "            },\n",
       "            \"subtextStyle\": {\n",
       "                \"fontSize\": 12\n",
       "            }\n",
       "        }\n",
       "    ],\n",
       "    \"toolbox\": {\n",
       "        \"show\": true,\n",
       "        \"orient\": \"vertical\",\n",
       "        \"left\": \"95%\",\n",
       "        \"top\": \"center\",\n",
       "        \"feature\": {\n",
       "            \"saveAsImage\": {\n",
       "                \"show\": true,\n",
       "                \"title\": \"save as image\"\n",
       "            },\n",
       "            \"restore\": {\n",
       "                \"show\": true,\n",
       "                \"title\": \"restore\"\n",
       "            },\n",
       "            \"dataView\": {\n",
       "                \"show\": true,\n",
       "                \"title\": \"data view\"\n",
       "            }\n",
       "        }\n",
       "    },\n",
       "    \"series_id\": 8031946,\n",
       "    \"tooltip\": {\n",
       "        \"trigger\": \"item\",\n",
       "        \"triggerOn\": \"mousemove|click\",\n",
       "        \"axisPointer\": {\n",
       "            \"type\": \"line\"\n",
       "        },\n",
       "        \"textStyle\": {\n",
       "            \"fontSize\": 14\n",
       "        },\n",
       "        \"backgroundColor\": \"rgba(50,50,50,0.7)\",\n",
       "        \"borderColor\": \"#333\",\n",
       "        \"borderWidth\": 0\n",
       "    },\n",
       "    \"series\": [\n",
       "        {\n",
       "            \"type\": \"pie\",\n",
       "            \"data\": [\n",
       "                {\n",
       "                    \"name\": 2018,\n",
       "                    \"value\": 0.5196320245316979\n",
       "                },\n",
       "                {\n",
       "                    \"name\": 2017,\n",
       "                    \"value\": 0.3622425171655223\n",
       "                },\n",
       "                {\n",
       "                    \"name\": 2019,\n",
       "                    \"value\": 0.11812545830277982\n",
       "                }\n",
       "            ],\n",
       "            \"radius\": [\n",
       "                \"0%\",\n",
       "                \"75%\"\n",
       "            ],\n",
       "            \"center\": [\n",
       "                \"50%\",\n",
       "                \"50%\"\n",
       "            ],\n",
       "            \"label\": {\n",
       "                \"normal\": {\n",
       "                    \"show\": true,\n",
       "                    \"position\": \"outside\",\n",
       "                    \"textStyle\": {\n",
       "                        \"fontSize\": 12\n",
       "                    },\n",
       "                    \"formatter\": \"{b}: {d}%\"\n",
       "                },\n",
       "                \"emphasis\": {\n",
       "                    \"show\": true,\n",
       "                    \"textStyle\": {\n",
       "                        \"fontSize\": 12\n",
       "                    },\n",
       "                    \"formatter\": \"{b}: {d}%\"\n",
       "                }\n",
       "            },\n",
       "            \"seriesId\": 8031946\n",
       "        }\n",
       "    ],\n",
       "    \"legend\": [\n",
       "        {\n",
       "            \"data\": [\n",
       "                2018,\n",
       "                2017,\n",
       "                2019\n",
       "            ],\n",
       "            \"selectedMode\": \"multiple\",\n",
       "            \"show\": true,\n",
       "            \"left\": \"center\",\n",
       "            \"top\": \"top\",\n",
       "            \"orient\": \"horizontal\",\n",
       "            \"textStyle\": {\n",
       "                \"fontSize\": 12\n",
       "            }\n",
       "        }\n",
       "    ],\n",
       "    \"animation\": true,\n",
       "    \"color\": [\n",
       "        \"#c23531\",\n",
       "        \"#2f4554\",\n",
       "        \"#61a0a8\",\n",
       "        \"#d48265\",\n",
       "        \"#749f83\",\n",
       "        \"#ca8622\",\n",
       "        \"#bda29a\",\n",
       "        \"#6e7074\",\n",
       "        \"#546570\",\n",
       "        \"#c4ccd3\",\n",
       "        \"#f05b72\",\n",
       "        \"#ef5b9c\",\n",
       "        \"#f47920\",\n",
       "        \"#905a3d\",\n",
       "        \"#fab27b\",\n",
       "        \"#2a5caa\",\n",
       "        \"#444693\",\n",
       "        \"#726930\",\n",
       "        \"#b2d235\",\n",
       "        \"#6d8346\",\n",
       "        \"#ac6767\",\n",
       "        \"#1d953f\",\n",
       "        \"#6950a1\",\n",
       "        \"#918597\",\n",
       "        \"#f6f5ec\"\n",
       "    ]\n",
       "};\n",
       "myChart_5012b38fb6624785a18169a16ffea6b4.setOption(option_5012b38fb6624785a18169a16ffea6b4);\n",
       "\n",
       "    });\n",
       "</script>\n"
      ],
      "text/plain": [
       "<pyecharts.charts.pie.Pie at 0x1188caa20>"
      ]
     },
     "execution_count": 15,
     "metadata": {},
     "output_type": "execute_result"
    }
   ],
   "source": [
    "huabing(get_top([datetimefromstr(x['created_at']).year for x in statuses], num = -1))"
   ]
  },
  {
   "cell_type": "code",
   "execution_count": 16,
   "metadata": {
    "scrolled": false
   },
   "outputs": [
    {
     "data": {
      "text/html": [
       "<script>\n",
       "    require.config({\n",
       "        paths: {\n",
       "            'echarts': '/nbextensions/echarts/echarts.min'\n",
       "        }\n",
       "    });\n",
       "</script>\n",
       "    <div id=\"5e758d58023e4f2b8a5dbfbf9ca00e19\" style=\"width:800px;height:400px;\"></div>\n",
       "\n",
       "\n",
       "<script>\n",
       "    require(['echarts'], function(echarts) {\n",
       "        \n",
       "var myChart_5e758d58023e4f2b8a5dbfbf9ca00e19 = echarts.init(document.getElementById('5e758d58023e4f2b8a5dbfbf9ca00e19'), 'light', {renderer: 'canvas'});\n",
       "\n",
       "var option_5e758d58023e4f2b8a5dbfbf9ca00e19 = {\n",
       "    \"title\": [\n",
       "        {\n",
       "            \"left\": \"auto\",\n",
       "            \"top\": \"auto\",\n",
       "            \"textStyle\": {\n",
       "                \"fontSize\": 18\n",
       "            },\n",
       "            \"subtextStyle\": {\n",
       "                \"fontSize\": 12\n",
       "            }\n",
       "        }\n",
       "    ],\n",
       "    \"toolbox\": {\n",
       "        \"show\": true,\n",
       "        \"orient\": \"vertical\",\n",
       "        \"left\": \"95%\",\n",
       "        \"top\": \"center\",\n",
       "        \"feature\": {\n",
       "            \"saveAsImage\": {\n",
       "                \"show\": true,\n",
       "                \"title\": \"save as image\"\n",
       "            },\n",
       "            \"restore\": {\n",
       "                \"show\": true,\n",
       "                \"title\": \"restore\"\n",
       "            },\n",
       "            \"dataView\": {\n",
       "                \"show\": true,\n",
       "                \"title\": \"data view\"\n",
       "            }\n",
       "        }\n",
       "    },\n",
       "    \"series_id\": 5234465,\n",
       "    \"tooltip\": {\n",
       "        \"trigger\": \"item\",\n",
       "        \"triggerOn\": \"mousemove|click\",\n",
       "        \"axisPointer\": {\n",
       "            \"type\": \"line\"\n",
       "        },\n",
       "        \"textStyle\": {\n",
       "            \"fontSize\": 14\n",
       "        },\n",
       "        \"backgroundColor\": \"rgba(50,50,50,0.7)\",\n",
       "        \"borderColor\": \"#333\",\n",
       "        \"borderWidth\": 0\n",
       "    },\n",
       "    \"series\": [\n",
       "        {\n",
       "            \"type\": \"line\",\n",
       "            \"name\": \"\\u5fae\\u4fe1\",\n",
       "            \"symbol\": \"emptyCircle\",\n",
       "            \"symbolSize\": 4,\n",
       "            \"smooth\": true,\n",
       "            \"step\": false,\n",
       "            \"showSymbol\": true,\n",
       "            \"data\": [\n",
       "                [\n",
       "                    \"2017\",\n",
       "                    21736\n",
       "                ],\n",
       "                [\n",
       "                    \"2018\",\n",
       "                    31180\n",
       "                ],\n",
       "                [\n",
       "                    \"2019\",\n",
       "                    7088\n",
       "                ]\n",
       "            ],\n",
       "            \"label\": {\n",
       "                \"normal\": {\n",
       "                    \"show\": true,\n",
       "                    \"position\": \"top\",\n",
       "                    \"textStyle\": {\n",
       "                        \"fontSize\": 12\n",
       "                    }\n",
       "                },\n",
       "                \"emphasis\": {\n",
       "                    \"show\": true,\n",
       "                    \"textStyle\": {\n",
       "                        \"fontSize\": 12\n",
       "                    }\n",
       "                }\n",
       "            },\n",
       "            \"lineStyle\": {\n",
       "                \"normal\": {\n",
       "                    \"width\": 1,\n",
       "                    \"opacity\": 1,\n",
       "                    \"curveness\": 0,\n",
       "                    \"type\": \"solid\"\n",
       "                }\n",
       "            },\n",
       "            \"areaStyle\": {\n",
       "                \"opacity\": 0\n",
       "            },\n",
       "            \"markPoint\": {\n",
       "                \"data\": []\n",
       "            },\n",
       "            \"markLine\": {\n",
       "                \"data\": []\n",
       "            },\n",
       "            \"seriesId\": 5234465\n",
       "        }\n",
       "    ],\n",
       "    \"legend\": [\n",
       "        {\n",
       "            \"data\": [\n",
       "                \"\\u5fae\\u4fe1\"\n",
       "            ],\n",
       "            \"selectedMode\": \"multiple\",\n",
       "            \"show\": true,\n",
       "            \"left\": \"center\",\n",
       "            \"top\": \"top\",\n",
       "            \"orient\": \"horizontal\",\n",
       "            \"textStyle\": {\n",
       "                \"fontSize\": 12\n",
       "            }\n",
       "        }\n",
       "    ],\n",
       "    \"animation\": true,\n",
       "    \"xAxis\": [\n",
       "        {\n",
       "            \"show\": true,\n",
       "            \"nameLocation\": \"middle\",\n",
       "            \"nameGap\": 25,\n",
       "            \"nameTextStyle\": {\n",
       "                \"fontSize\": 14\n",
       "            },\n",
       "            \"axisTick\": {\n",
       "                \"alignWithLabel\": false\n",
       "            },\n",
       "            \"inverse\": false,\n",
       "            \"boundaryGap\": true,\n",
       "            \"type\": \"category\",\n",
       "            \"splitLine\": {\n",
       "                \"show\": false\n",
       "            },\n",
       "            \"axisLine\": {\n",
       "                \"lineStyle\": {\n",
       "                    \"width\": 1\n",
       "                }\n",
       "            },\n",
       "            \"axisLabel\": {\n",
       "                \"interval\": \"auto\",\n",
       "                \"rotate\": 0,\n",
       "                \"margin\": 8,\n",
       "                \"textStyle\": {\n",
       "                    \"fontSize\": 12\n",
       "                }\n",
       "            },\n",
       "            \"data\": [\n",
       "                \"2017\",\n",
       "                \"2018\",\n",
       "                \"2019\"\n",
       "            ]\n",
       "        }\n",
       "    ],\n",
       "    \"yAxis\": [\n",
       "        {\n",
       "            \"show\": true,\n",
       "            \"nameLocation\": \"middle\",\n",
       "            \"nameGap\": 25,\n",
       "            \"nameTextStyle\": {\n",
       "                \"fontSize\": 14\n",
       "            },\n",
       "            \"axisTick\": {\n",
       "                \"alignWithLabel\": false\n",
       "            },\n",
       "            \"inverse\": false,\n",
       "            \"boundaryGap\": true,\n",
       "            \"type\": \"value\",\n",
       "            \"splitLine\": {\n",
       "                \"show\": true\n",
       "            },\n",
       "            \"axisLine\": {\n",
       "                \"lineStyle\": {\n",
       "                    \"width\": 1\n",
       "                }\n",
       "            },\n",
       "            \"axisLabel\": {\n",
       "                \"interval\": \"auto\",\n",
       "                \"formatter\": \"{value} \",\n",
       "                \"rotate\": 0,\n",
       "                \"margin\": 8,\n",
       "                \"textStyle\": {\n",
       "                    \"fontSize\": 12\n",
       "                }\n",
       "            }\n",
       "        }\n",
       "    ],\n",
       "    \"color\": [\n",
       "        \"#c23531\",\n",
       "        \"#2f4554\",\n",
       "        \"#61a0a8\",\n",
       "        \"#d48265\",\n",
       "        \"#749f83\",\n",
       "        \"#ca8622\",\n",
       "        \"#bda29a\",\n",
       "        \"#6e7074\",\n",
       "        \"#546570\",\n",
       "        \"#c4ccd3\",\n",
       "        \"#f05b72\",\n",
       "        \"#ef5b9c\",\n",
       "        \"#f47920\",\n",
       "        \"#905a3d\",\n",
       "        \"#fab27b\",\n",
       "        \"#2a5caa\",\n",
       "        \"#444693\",\n",
       "        \"#726930\",\n",
       "        \"#b2d235\",\n",
       "        \"#6d8346\",\n",
       "        \"#ac6767\",\n",
       "        \"#1d953f\",\n",
       "        \"#6950a1\",\n",
       "        \"#918597\",\n",
       "        \"#f6f5ec\"\n",
       "    ]\n",
       "};\n",
       "myChart_5e758d58023e4f2b8a5dbfbf9ca00e19.setOption(option_5e758d58023e4f2b8a5dbfbf9ca00e19);\n",
       "\n",
       "    });\n",
       "</script>\n"
      ],
      "text/plain": [
       "<pyecharts.charts.line.Line at 0x10affec18>"
      ]
     },
     "execution_count": 16,
     "metadata": {},
     "output_type": "execute_result"
    }
   ],
   "source": [
    "arr = sorted(get_top([datetimefromstr(x['created_at']).year for x in statuses],num=-1),key = lambda x:x[0])\n",
    "attr = [str(x[0]) for x in arr ]\n",
    "v1 = [x[1] for x in arr ]\n",
    "line = Line('')\n",
    "line.add(keyword, attr, v1,is_smooth=True,is_label_show=True,mark_line=[ ])\n",
    "# line.add(\"商家B\", attr, v2, is_smooth=True, mark_line=[\"max\", \"average\"])\n",
    "line"
   ]
  },
  {
   "cell_type": "code",
   "execution_count": 17,
   "metadata": {},
   "outputs": [
    {
     "data": {
      "text/plain": [
       "True"
      ]
     },
     "execution_count": 17,
     "metadata": {},
     "output_type": "execute_result"
    }
   ],
   "source": [
    "# 用户信息文件\n",
    "os.path.exists('./users.torch.pkl')"
   ]
  },
  {
   "cell_type": "code",
   "execution_count": 19,
   "metadata": {},
   "outputs": [
    {
     "name": "stdout",
     "output_type": "stream",
     "text": [
      "11512\n"
     ]
    }
   ],
   "source": [
    "# 预处理用户信息\n",
    "userid_to_info = {}\n",
    "if os.path.exists('./users.torch.pkl'):\n",
    "    userid_to_info = torch.load('users.torch.pkl')\n",
    "for x in statuses:\n",
    "    userid_to_info[x['user']['id']] = x['user']\n",
    "    if 'repost_status' in x:\n",
    "        userid_to_info[x['repost_status']['user']['id']] = x['repost_status']['user']\n",
    "torch.save(userid_to_info, 'users.torch.pkl')\n",
    "print(len(userid_to_info))"
   ]
  },
  {
   "cell_type": "code",
   "execution_count": 20,
   "metadata": {},
   "outputs": [
    {
     "name": "stdout",
     "output_type": "stream",
     "text": [
      "7210 60004 0.12015865608959403\n"
     ]
    }
   ],
   "source": [
    "# 发表人数/总消息数量\n",
    "uni_num = len(set([x['user']['id'] for x in statuses ]))\n",
    "print(uni_num, len(statuses), uni_num/len(statuses))"
   ]
  },
  {
   "cell_type": "code",
   "execution_count": null,
   "metadata": {},
   "outputs": [],
   "source": []
  },
  {
   "cell_type": "code",
   "execution_count": 28,
   "metadata": {},
   "outputs": [],
   "source": [
    "def splice_avatar30(urls):\n",
    "    result_width = 48*6\n",
    "    result_height = 48*5\n",
    "    result = Image.new('RGB', (result_width, result_height))\n",
    "    for i in tqdm(range(5)):\n",
    "        for j in (range(6)):\n",
    "            idx = i*6+j\n",
    "            response = requests.get(urls[idx])\n",
    "            img = Image.open(BytesIO(response.content))\n",
    "            result.paste(im=img, box=(j*48, i*48))\n",
    "    return result\n",
    "# 5*6"
   ]
  },
  {
   "cell_type": "code",
   "execution_count": 29,
   "metadata": {},
   "outputs": [
    {
     "name": "stdout",
     "output_type": "stream",
     "text": [
      "[('糗百', 4307, 0.07177854809679354, 'qiub'),\n",
      " ('那.谁', 641, 0.010682621158589428, '海边的暴走族'),\n",
      " ('L.1988', 635, 0.01058262782481168, '~q7mHGzyXZro'),\n",
      " ('大萌没有Ecup', 532, 0.008866075594960336, 'Emikooo'),\n",
      " ('越关山', 457, 0.007616158922738484, '~a8HE2eJqgxU'),\n",
      " ('MDJsoftware', 425, 0.007082861142590494, 'mdjsoftware'),\n",
      " ('墨滞', 380, 0.006332911139257383, 'subarasii'),\n",
      " ('伊丽莎白桑坂田阙日', 363, 0.006049596693553763, 'karl'),\n",
      " ('中场休息时闭嘴', 359, 0.005982934471035264, 'jackzhushen'),\n",
      " ('万能的饭否', 319, 0.005316312245850277, 'wndff'),\n",
      " ('乱耳朵', 286, 0.0047663489100726614, 'Uncle_Luan'),\n",
      " ('子浑月阿', 281, 0.004683021131924538, 'emmahathway'),\n",
      " ('凡骨', 268, 0.004466368908739417, 'yqwww'),\n",
      " ('李时珍的皮', 260, 0.00433304446370242, '闻言文'),\n",
      " ('安达充的走狗', 255, 0.004249716685554296, 'wylwddjz'),\n",
      " ('胶布啊胶布', 251, 0.0041830544630357975, '胶布同学'),\n",
      " ('熊仔饼啊', 229, 0.0038164122391840544, 'chowhong'),\n",
      " ('一碗.', 216, 0.0035997600159989335, '~_8nZWTiRSpA'),\n",
      " ('Talkaholic_L', 213, 0.0035497633491100595, 'Talkaholic_L'),\n",
      " ('马克先森', 210, 0.0034997666822211854, 'talk2u'),\n",
      " ('寒小梦', 203, 0.003383107792813812, 'cincylan'),\n",
      " ('徒有实名', 203, 0.003383107792813812, '~DMkLPYc13EM'),\n",
      " ('社畜喵湿书', 189, 0.0031497900139990666, 'flycatinthesky'),\n",
      " ('轻轻河边操', 184, 0.003066462235850943, 'nicetomeetyou'),\n",
      " ('MM不算太', 182, 0.003033131124591694, 'mmyww.shalimar'),\n",
      " ('秋日夏娃', 171, 0.0028498100126658223, 'suishan'),\n",
      " ('七喜.', 168, 0.0027998133457769483, 'xike7xi'),\n",
      " ('六灯', 167, 0.0027831477901473236, '六灯life'),\n",
      " ('如若不燃', 164, 0.0027331511232584495, 'armyja'),\n",
      " ('Olittle', 164, 0.0027331511232584495, 'Olittle')]\n"
     ]
    },
    {
     "data": {
      "text/html": [
       "<script>\n",
       "    require.config({\n",
       "        paths: {\n",
       "            'echarts': '/nbextensions/echarts/echarts.min'\n",
       "        }\n",
       "    });\n",
       "</script>\n",
       "    <div id=\"1794956bc501419896419237145c497a\" style=\"width:800px;height:400px;\"></div>\n",
       "\n",
       "\n",
       "<script>\n",
       "    require(['echarts'], function(echarts) {\n",
       "        \n",
       "var myChart_1794956bc501419896419237145c497a = echarts.init(document.getElementById('1794956bc501419896419237145c497a'), 'light', {renderer: 'canvas'});\n",
       "\n",
       "var option_1794956bc501419896419237145c497a = {\n",
       "    \"title\": [\n",
       "        {\n",
       "            \"left\": \"auto\",\n",
       "            \"top\": \"auto\",\n",
       "            \"textStyle\": {\n",
       "                \"fontSize\": 18\n",
       "            },\n",
       "            \"subtextStyle\": {\n",
       "                \"fontSize\": 12\n",
       "            }\n",
       "        }\n",
       "    ],\n",
       "    \"toolbox\": {\n",
       "        \"show\": true,\n",
       "        \"orient\": \"vertical\",\n",
       "        \"left\": \"95%\",\n",
       "        \"top\": \"center\",\n",
       "        \"feature\": {\n",
       "            \"saveAsImage\": {\n",
       "                \"show\": true,\n",
       "                \"title\": \"save as image\"\n",
       "            },\n",
       "            \"restore\": {\n",
       "                \"show\": true,\n",
       "                \"title\": \"restore\"\n",
       "            },\n",
       "            \"dataView\": {\n",
       "                \"show\": true,\n",
       "                \"title\": \"data view\"\n",
       "            }\n",
       "        }\n",
       "    },\n",
       "    \"series_id\": 4657738,\n",
       "    \"tooltip\": {\n",
       "        \"trigger\": \"item\",\n",
       "        \"triggerOn\": \"mousemove|click\",\n",
       "        \"axisPointer\": {\n",
       "            \"type\": \"line\"\n",
       "        },\n",
       "        \"textStyle\": {\n",
       "            \"fontSize\": 14\n",
       "        },\n",
       "        \"backgroundColor\": \"rgba(50,50,50,0.7)\",\n",
       "        \"borderColor\": \"#333\",\n",
       "        \"borderWidth\": 0\n",
       "    },\n",
       "    \"series\": [\n",
       "        {\n",
       "            \"type\": \"pie\",\n",
       "            \"data\": [\n",
       "                {\n",
       "                    \"name\": \"\\u7cd7\\u767e\",\n",
       "                    \"value\": 0.07177854809679354\n",
       "                },\n",
       "                {\n",
       "                    \"name\": \"\\u90a3.\\u8c01\",\n",
       "                    \"value\": 0.010682621158589428\n",
       "                },\n",
       "                {\n",
       "                    \"name\": \"L.1988\",\n",
       "                    \"value\": 0.01058262782481168\n",
       "                },\n",
       "                {\n",
       "                    \"name\": \"\\u5927\\u840c\\u6ca1\\u6709Ecup\",\n",
       "                    \"value\": 0.008866075594960336\n",
       "                },\n",
       "                {\n",
       "                    \"name\": \"\\u8d8a\\u5173\\u5c71\",\n",
       "                    \"value\": 0.007616158922738484\n",
       "                },\n",
       "                {\n",
       "                    \"name\": \"MDJsoftware\",\n",
       "                    \"value\": 0.007082861142590494\n",
       "                },\n",
       "                {\n",
       "                    \"name\": \"\\u58a8\\u6ede\",\n",
       "                    \"value\": 0.006332911139257383\n",
       "                },\n",
       "                {\n",
       "                    \"name\": \"\\u4f0a\\u4e3d\\u838e\\u767d\\u6851\\u5742\\u7530\\u9619\\u65e5\",\n",
       "                    \"value\": 0.006049596693553763\n",
       "                },\n",
       "                {\n",
       "                    \"name\": \"\\u4e2d\\u573a\\u4f11\\u606f\\u65f6\\u95ed\\u5634\",\n",
       "                    \"value\": 0.005982934471035264\n",
       "                },\n",
       "                {\n",
       "                    \"name\": \"\\u4e07\\u80fd\\u7684\\u996d\\u5426\",\n",
       "                    \"value\": 0.005316312245850277\n",
       "                },\n",
       "                {\n",
       "                    \"name\": \"\\u4e71\\u8033\\u6735\",\n",
       "                    \"value\": 0.0047663489100726614\n",
       "                },\n",
       "                {\n",
       "                    \"name\": \"\\u5b50\\u6d51\\u6708\\u963f\",\n",
       "                    \"value\": 0.004683021131924538\n",
       "                },\n",
       "                {\n",
       "                    \"name\": \"\\u51e1\\u9aa8\",\n",
       "                    \"value\": 0.004466368908739417\n",
       "                },\n",
       "                {\n",
       "                    \"name\": \"\\u674e\\u65f6\\u73cd\\u7684\\u76ae\",\n",
       "                    \"value\": 0.00433304446370242\n",
       "                },\n",
       "                {\n",
       "                    \"name\": \"\\u5b89\\u8fbe\\u5145\\u7684\\u8d70\\u72d7\",\n",
       "                    \"value\": 0.004249716685554296\n",
       "                },\n",
       "                {\n",
       "                    \"name\": \"\\u80f6\\u5e03\\u554a\\u80f6\\u5e03\",\n",
       "                    \"value\": 0.0041830544630357975\n",
       "                },\n",
       "                {\n",
       "                    \"name\": \"\\u718a\\u4ed4\\u997c\\u554a\",\n",
       "                    \"value\": 0.0038164122391840544\n",
       "                },\n",
       "                {\n",
       "                    \"name\": \"\\u4e00\\u7897.\",\n",
       "                    \"value\": 0.0035997600159989335\n",
       "                },\n",
       "                {\n",
       "                    \"name\": \"Talkaholic_L\",\n",
       "                    \"value\": 0.0035497633491100595\n",
       "                },\n",
       "                {\n",
       "                    \"name\": \"\\u9a6c\\u514b\\u5148\\u68ee\",\n",
       "                    \"value\": 0.0034997666822211854\n",
       "                },\n",
       "                {\n",
       "                    \"name\": \"\\u5bd2\\u5c0f\\u68a6\",\n",
       "                    \"value\": 0.003383107792813812\n",
       "                },\n",
       "                {\n",
       "                    \"name\": \"\\u5f92\\u6709\\u5b9e\\u540d\",\n",
       "                    \"value\": 0.003383107792813812\n",
       "                },\n",
       "                {\n",
       "                    \"name\": \"\\u793e\\u755c\\u55b5\\u6e7f\\u4e66\",\n",
       "                    \"value\": 0.0031497900139990666\n",
       "                },\n",
       "                {\n",
       "                    \"name\": \"\\u8f7b\\u8f7b\\u6cb3\\u8fb9\\u64cd\",\n",
       "                    \"value\": 0.003066462235850943\n",
       "                },\n",
       "                {\n",
       "                    \"name\": \"MM\\u4e0d\\u7b97\\u592a\",\n",
       "                    \"value\": 0.003033131124591694\n",
       "                },\n",
       "                {\n",
       "                    \"name\": \"\\u79cb\\u65e5\\u590f\\u5a03\",\n",
       "                    \"value\": 0.0028498100126658223\n",
       "                },\n",
       "                {\n",
       "                    \"name\": \"\\u4e03\\u559c.\",\n",
       "                    \"value\": 0.0027998133457769483\n",
       "                },\n",
       "                {\n",
       "                    \"name\": \"\\u516d\\u706f\",\n",
       "                    \"value\": 0.0027831477901473236\n",
       "                },\n",
       "                {\n",
       "                    \"name\": \"\\u5982\\u82e5\\u4e0d\\u71c3\",\n",
       "                    \"value\": 0.0027331511232584495\n",
       "                },\n",
       "                {\n",
       "                    \"name\": \"Olittle\",\n",
       "                    \"value\": 0.0027331511232584495\n",
       "                },\n",
       "                {\n",
       "                    \"name\": \"\\u5176\\u4ed6\",\n",
       "                    \"value\": 0.7886474235050998\n",
       "                }\n",
       "            ],\n",
       "            \"radius\": [\n",
       "                \"0%\",\n",
       "                \"75%\"\n",
       "            ],\n",
       "            \"center\": [\n",
       "                \"50%\",\n",
       "                \"50%\"\n",
       "            ],\n",
       "            \"label\": {\n",
       "                \"normal\": {\n",
       "                    \"show\": true,\n",
       "                    \"position\": \"outside\",\n",
       "                    \"textStyle\": {\n",
       "                        \"fontSize\": 12\n",
       "                    },\n",
       "                    \"formatter\": \"{b}: {d}%\"\n",
       "                },\n",
       "                \"emphasis\": {\n",
       "                    \"show\": true,\n",
       "                    \"textStyle\": {\n",
       "                        \"fontSize\": 12\n",
       "                    },\n",
       "                    \"formatter\": \"{b}: {d}%\"\n",
       "                }\n",
       "            },\n",
       "            \"seriesId\": 4657738\n",
       "        }\n",
       "    ],\n",
       "    \"legend\": [\n",
       "        {\n",
       "            \"data\": [\n",
       "                \"\\u7cd7\\u767e\",\n",
       "                \"\\u90a3.\\u8c01\",\n",
       "                \"L.1988\",\n",
       "                \"\\u5927\\u840c\\u6ca1\\u6709Ecup\",\n",
       "                \"\\u8d8a\\u5173\\u5c71\",\n",
       "                \"MDJsoftware\",\n",
       "                \"\\u58a8\\u6ede\",\n",
       "                \"\\u4f0a\\u4e3d\\u838e\\u767d\\u6851\\u5742\\u7530\\u9619\\u65e5\",\n",
       "                \"\\u4e2d\\u573a\\u4f11\\u606f\\u65f6\\u95ed\\u5634\",\n",
       "                \"\\u4e07\\u80fd\\u7684\\u996d\\u5426\",\n",
       "                \"\\u4e71\\u8033\\u6735\",\n",
       "                \"\\u5b50\\u6d51\\u6708\\u963f\",\n",
       "                \"\\u51e1\\u9aa8\",\n",
       "                \"\\u674e\\u65f6\\u73cd\\u7684\\u76ae\",\n",
       "                \"\\u5b89\\u8fbe\\u5145\\u7684\\u8d70\\u72d7\",\n",
       "                \"\\u80f6\\u5e03\\u554a\\u80f6\\u5e03\",\n",
       "                \"\\u718a\\u4ed4\\u997c\\u554a\",\n",
       "                \"\\u4e00\\u7897.\",\n",
       "                \"Talkaholic_L\",\n",
       "                \"\\u9a6c\\u514b\\u5148\\u68ee\",\n",
       "                \"\\u5bd2\\u5c0f\\u68a6\",\n",
       "                \"\\u5f92\\u6709\\u5b9e\\u540d\",\n",
       "                \"\\u793e\\u755c\\u55b5\\u6e7f\\u4e66\",\n",
       "                \"\\u8f7b\\u8f7b\\u6cb3\\u8fb9\\u64cd\",\n",
       "                \"MM\\u4e0d\\u7b97\\u592a\",\n",
       "                \"\\u79cb\\u65e5\\u590f\\u5a03\",\n",
       "                \"\\u4e03\\u559c.\",\n",
       "                \"\\u516d\\u706f\",\n",
       "                \"\\u5982\\u82e5\\u4e0d\\u71c3\",\n",
       "                \"Olittle\",\n",
       "                \"\\u5176\\u4ed6\"\n",
       "            ],\n",
       "            \"selectedMode\": \"multiple\",\n",
       "            \"show\": true,\n",
       "            \"left\": \"center\",\n",
       "            \"top\": \"top\",\n",
       "            \"orient\": \"horizontal\",\n",
       "            \"textStyle\": {\n",
       "                \"fontSize\": 12\n",
       "            }\n",
       "        }\n",
       "    ],\n",
       "    \"animation\": true,\n",
       "    \"color\": [\n",
       "        \"#c23531\",\n",
       "        \"#2f4554\",\n",
       "        \"#61a0a8\",\n",
       "        \"#d48265\",\n",
       "        \"#749f83\",\n",
       "        \"#ca8622\",\n",
       "        \"#bda29a\",\n",
       "        \"#6e7074\",\n",
       "        \"#546570\",\n",
       "        \"#c4ccd3\",\n",
       "        \"#f05b72\",\n",
       "        \"#ef5b9c\",\n",
       "        \"#f47920\",\n",
       "        \"#905a3d\",\n",
       "        \"#fab27b\",\n",
       "        \"#2a5caa\",\n",
       "        \"#444693\",\n",
       "        \"#726930\",\n",
       "        \"#b2d235\",\n",
       "        \"#6d8346\",\n",
       "        \"#ac6767\",\n",
       "        \"#1d953f\",\n",
       "        \"#6950a1\",\n",
       "        \"#918597\",\n",
       "        \"#f6f5ec\"\n",
       "    ]\n",
       "};\n",
       "myChart_1794956bc501419896419237145c497a.setOption(option_1794956bc501419896419237145c497a);\n",
       "\n",
       "    });\n",
       "</script>\n"
      ],
      "text/plain": [
       "<pyecharts.charts.pie.Pie at 0x12d292f60>"
      ]
     },
     "execution_count": 29,
     "metadata": {},
     "output_type": "execute_result"
    }
   ],
   "source": [
    "# 发表top30的人\n",
    "users_top = get_top([x['user']['id'] for x in statuses], num=30)\n",
    "names_top = [ (userid_to_info[x[0]]['name'] ,  x[1], x[2],x[0]) for x in users_top]\n",
    "pprint(names_top)\n",
    "huabing(names_top)"
   ]
  },
  {
   "cell_type": "code",
   "execution_count": 33,
   "metadata": {},
   "outputs": [
    {
     "name": "stderr",
     "output_type": "stream",
     "text": [
      "100%|██████████| 5/5 [00:18<00:00,  3.91s/it]\n"
     ]
    },
    {
     "data": {
      "image/png": "[encoded data removed]",
      "text/plain": [
       "<PIL.Image.Image image mode=RGB size=288x240 at 0x12D292A90>"
      ]
     },
     "execution_count": 33,
     "metadata": {},
     "output_type": "execute_result"
    }
   ],
   "source": [
    "splice_avatar30([userid_to_info[x[0]]['profile_image_url'] for x in users_top])"
   ]
  },
  {
   "cell_type": "code",
   "execution_count": 34,
   "metadata": {},
   "outputs": [],
   "source": [
    "def show_user_info(x):\n",
    "    user = userid_to_info[x]\n",
    "    pprint(user)"
   ]
  },
  {
   "cell_type": "code",
   "execution_count": 35,
   "metadata": {},
   "outputs": [
    {
     "name": "stdout",
     "output_type": "stream",
     "text": [
      "{'birthday': '',\n",
      " 'created_at': 'Wed Feb 17 04:46:39 +0000 2016',\n",
      " 'description': '糗百非官方机器人，抓取自糗百首页的热门糗事。',\n",
      " 'favourites_count': 0,\n",
      " 'followers_count': 6555,\n",
      " 'following': False,\n",
      " 'friends_count': 0,\n",
      " 'gender': '',\n",
      " 'id': 'qiub',\n",
      " 'location': '',\n",
      " 'name': '糗百',\n",
      " 'notifications': False,\n",
      " 'photo_count': 143770,\n",
      " 'profile_background_color': '#acdae5',\n",
      " 'profile_background_image_url': 'http://static.fanfou.com/img/bg/0.png',\n",
      " 'profile_background_tile': False,\n",
      " 'profile_image_url': 'http://s3.meituan.net/v1/mss_3d027b52ec5a4d589e68050845611e68/avatar/s0/00/qa/f6.jpg?1455684943',\n",
      " 'profile_image_url_large': 'http://s3.meituan.net/v1/mss_3d027b52ec5a4d589e68050845611e68/avatar/l0/00/qa/f6.jpg?1455684943',\n",
      " 'profile_link_color': '#0066cc',\n",
      " 'profile_sidebar_border_color': '#b2d1a3',\n",
      " 'profile_sidebar_fill_color': '#e2f2da',\n",
      " 'profile_text_color': '#222222',\n",
      " 'protected': False,\n",
      " 'screen_name': '糗百',\n",
      " 'statuses_count': 437053,\n",
      " 'unique_id': '~vywepXCNPTE',\n",
      " 'url': 'http://www.qiushibaike.com/',\n",
      " 'utc_offset': 28800}\n"
     ]
    }
   ],
   "source": [
    "show_user_info(users_top[0][0])"
   ]
  },
  {
   "cell_type": "code",
   "execution_count": null,
   "metadata": {},
   "outputs": [],
   "source": []
  },
  {
   "cell_type": "code",
   "execution_count": null,
   "metadata": {},
   "outputs": [],
   "source": []
  },
  {
   "cell_type": "code",
   "execution_count": 36,
   "metadata": {},
   "outputs": [
    {
     "name": "stdout",
     "output_type": "stream",
     "text": [
      "[('id: anegie name: 太空小孩 微信的好友上限是 5040 人，这个数字与柏拉图在《法律篇》（The '\n",
      "  'Laws）中为次级理想国设计的「理想公民人数」是一致的。5040 这个数字的来源是 7 的阶乘，同时柏拉图认为这个数字能被 1~10 以及 12 '\n",
      "  '整除，可以迎合不同的需求。',\n",
      "  'tPvdJ_jj47s',\n",
      "  83,\n",
      "  0.006636283681138562),\n",
      " ('id: karl name: 伊丽莎白桑坂田阙日 从微信取名看性格... 我觉得我是最后一个 微信名字越长 SB几率越高…………………………🙃️',\n",
      "  'jVjDVOcc-Nc',\n",
      "  59,\n",
      "  0.004717358279363556),\n",
      " ('id: zenchan name: 布單 '\n",
      "  '7年前张小龙的两条饭否，如今微信7.0新版本发布，开屏BGM用了Cohen的音乐，Slogan解读了王阳明的文字。',\n",
      "  'EbTQCYB9vo4',\n",
      "  55,\n",
      "  0.0043975373790677225),\n",
      " ('id: Olittle name: Olittle '\n",
      "  '状态不佳，给学生上课使我快乐。转发抽奖，奖品为意大利语初级教程10节，一对一，我教。前100名转发+微信兑奖都算中奖，就是这么任性。有效期至2019年底，不学作废。上课需要提前预约一下，不然我可能在睡觉。上次抽中一个月免费的同学这次就不算了哟。',\n",
      "  'b82ML9lAsU8',\n",
      "  51,\n",
      "  0.004077716478771888),\n",
      " ('id: shiziwang name: 王金牙 '\n",
      "  '今天见识了一个互联网模式，卖小黄文，小伙儿收集各种高质量小黄文，自己审看，做了个微信小程序，每篇可以试读1500字或一章，再想看，微信支付五块钱。想看全部，买会员。我说小黄文自己找着去看呗，谁会买你的，小伙儿女友说，哥，就是有人懒啊，我们就这么个模式，一个月五十万。',\n",
      "  'cITR987fFFo',\n",
      "  43,\n",
      "  0.003438074678180219),\n",
      " ('id: ~ga9mK1MYxq4 name: 粉色很好啊但 '\n",
      "  '我最好的朋友的爸爸出车祸面临截肢，现在她家经济来源全断了，每天要支出几万块的治疗费，她还在读大二，求求大家帮着捐一点或者转一下，求求了，谢谢谢谢谢谢！！！！！！！',\n",
      "  '6B0fQ7TwVOA',\n",
      "  43,\n",
      "  0.003438074678180219),\n",
      " ('id: anegie name: 太空小孩 微信顶部搜索框 - '\n",
      "  '搜索表情，输入关键词，搜到的表情图库很全，看了一下是直接用算法爬取了所有公众号的表情包。找不到表情包的时候直接用这招，非常靠谱。',\n",
      "  'NZLX1Ko2NIw',\n",
      "  41,\n",
      "  0.003278164228032302),\n",
      " ('id: shiziwang name: 王金牙 '\n",
      "  '又一年了。岁月风驰，变幻匆匆，不问人间值得，活着便已欢喜。新年，愿山海相逢，明朗可期，逝者不被消费，新生获得珍惜，你我聪慧独立，对流量微信，对压力陌陌，日子免于强咚，上马总有青云。2019，愿你情相随，家明亮，心有光，外卖和快递，诗篇与爱人，都会穿越寒夜和晨曦奔向你。',\n",
      "  'gHSNQYH4xVA',\n",
      "  41,\n",
      "  0.003278164228032302),\n",
      " ('id: wangxing name: 王兴 '\n",
      "  '太可怕了！微信居然有窜消息这种致命bug！我发给a的图片，一切正常的显示在我和a的聊天记录里（a还没回复，不确定是否已收到）。但其实错发到b那里去了，所以b一头雾水的问我，还把他那里看到的和我的聊天记录截屏发给我，确实有那张图。我和b的聊天记录里没有。',\n",
      "  'VndVQUj5zDA',\n",
      "  38,\n",
      "  0.003038298552810426),\n",
      " ('id: zhengkejun name: 沈倾欢 '\n",
      "  '上班路上和朋友聊起“最喜欢的企业家”，两个人都不约而同提到了王兴。朋友加了他微信，两次想请教问题，他每次都会很有礼貌地回复：抱歉，我没有时间解答。',\n",
      "  'uKd19g7wxM4',\n",
      "  38,\n",
      "  0.003038298552810426),\n",
      " ('id: dongdongqiang name: 东东枪 '\n",
      "  '用微信付款，可以看到很多陌生人的微信昵称。公司楼下收停车费的老哥，叫“真诚”。以前看车的还有个河南周口的大姐，叫“鸿雁”。不远处卖江西瓦罐汤的小老板，瘦高沉默的中年男人，叫“天漄游子”。',\n",
      "  'i1DOCnK8UvA',\n",
      "  37,\n",
      "  0.0029583433277364677),\n",
      " ('id: elmanshi name: 愚兄 今天看微信群里一张图，会心一哭。',\n",
      "  'MlI-HqNijeE',\n",
      "  36,\n",
      "  0.002878388102662509),\n",
      " ('id: ~gJYBH5Vd1PQ name: 绫果 我恋爱了。\\n'\n",
      "  '东京广州我和他来回跑，认识一个月半，见面了四次，确认关系。微信工作外时间腻歪，天天分享动物和进化论的见解，经常作性格人品婚姻幸福的深层次讨论，并，得到双方家人的认可。\\n'\n",
      "  '这段关系，以宇宙第一速度在发展。',\n",
      "  'UWsAsh3xMlg',\n",
      "  34,\n",
      "  0.002718477652514592),\n",
      " ('id: wangxing name: 王兴 一个做投资的朋友跟我说：你随时电话或者短信我，微信太乱我不太看。',\n",
      "  'nM8VQXasajo',\n",
      "  33,\n",
      "  0.002638522427440633),\n",
      " ('id: wangxing name: 王兴 微信英文版里把「朋友圈」叫做 '\n",
      "  'Moments。考虑到最初朋友圈鼓励发照片而不鼓励发文字（甚至有意隐藏了单独发文字的操作），我猜想这个译法可能受了当年柯达口号 Share '\n",
      "  'moments, share life 的影响。',\n",
      "  'SKGBoi9WVYQ',\n",
      "  33,\n",
      "  0.002638522427440633),\n",
      " ('id: kranfel name: Monokai 如果现代的通讯软件满分 100 分，在你用过 WhatsApp, Telegram, Wire, '\n",
      "  'Signal, Slack, Discord 和微信之后，你就知道，微信不是不及格，而是大概只有 20 分……毫不夸张。',\n",
      "  'gYpdP1G7NpI',\n",
      "  32,\n",
      "  0.0025585672023666745),\n",
      " ('id: fyjdyl name: 饭友经典语录 '\n",
      "  '有一种历史进程是这样的：09年大家一起毕了业，你offer拿到手软，挑挑拣拣去了霸主诺基亚做手机；他学渣一个没办法，只好南下去腾讯（深圳本部还不要，只好去广州）搞莫名其妙的微信。via '\n",
      "  '豆瓣李小补',\n",
      "  'KZnhsHNYYPo',\n",
      "  32,\n",
      "  0.0025585672023666745),\n",
      " ('id: fyjdyl name: 饭友经典语录 价值50万的人命和价值200万的钻头……在钛媒体上看到的微信截图……',\n",
      "  '28oapaRB0dk',\n",
      "  32,\n",
      "  0.0025585672023666745),\n",
      " ('id: wangxing name: 王兴 一个朋友说她外婆95岁了，会用微信，每天读书写读书笔记，我肃然起敬的同时有点自惭形秽。',\n",
      "  'l622CuyBuDM',\n",
      "  30,\n",
      "  0.0023986567522187576),\n",
      " ('id: dawaiwai name: 于大美 跟男的在微信说话，不管连续抛出几个问题，他们好像只能看到最后一个。',\n",
      "  'hvNcP_tBtVE',\n",
      "  29,\n",
      "  0.002318701527144799)]\n"
     ]
    }
   ],
   "source": [
    "# 被引用top20的消息\n",
    "\n",
    "repost_top = get_top([x['repost_status']['id'] for x in statuses if 'repost_status' in x], num=20)\n",
    "for i in range(len(repost_top)):\n",
    "    x = repost_top[i]\n",
    "    for y in statuses:\n",
    "        if 'repost_status' in y and y['repost_status']['id'] == x[0]:\n",
    "            repost_top[i] = ('id: '+y['repost_status']['user']['id'] + ' name: '+y['repost_status']['user']['name']  +' '+ html.unescape(y['repost_status']['text']),x[0], x[1],x[2])\n",
    "            break\n",
    "            \n",
    "pprint(repost_top)"
   ]
  },
  {
   "cell_type": "code",
   "execution_count": 39,
   "metadata": {},
   "outputs": [
    {
     "name": "stdout",
     "output_type": "stream",
     "text": [
      "[('王兴', 325, 0.025985448149036538, 'wangxing'),\n",
      " ('东东枪', 267, 0.021348045094746942, 'dongdongqiang'),\n",
      " ('越关山', 263, 0.021028224194451106, '~a8HE2eJqgxU'),\n",
      " ('糗百', 218, 0.017430239066122972, 'qiub'),\n",
      " ('太空小孩', 191, 0.015271447989126089, 'anegie'),\n",
      " ('胶布啊胶布', 186, 0.014871671863756297, '胶布同学'),\n",
      " ('王金牙', 166, 0.013272567362277124, 'shiziwang'),\n",
      " ('伊丽莎白桑坂田阙日', 166, 0.013272567362277124, 'karl'),\n",
      " ('大萌没有Ecup', 142, 0.011353641960502118, 'Emikooo'),\n",
      " ('子浑月阿', 140, 0.011193731510354202, 'emmahathway'),\n",
      " ('毒艹', 114, 0.009114895658431278, 'bisons'),\n",
      " ('于大美', 112, 0.008954985208283361, 'dawaiwai'),\n",
      " ('粉色很好啊但', 106, 0.00847525385783961, '~ga9mK1MYxq4'),\n",
      " ('弥勒儿', 97, 0.007755656832173982, 'xiaoyouzhi'),\n",
      " ('即刻精选', 96, 0.007675701607100024, 'jike_bot'),\n",
      " ('剑花', 94, 0.007515791156952107, 'dezhaos'),\n",
      " ('安达充的走狗', 94, 0.007515791156952107, 'wylwddjz'),\n",
      " ('饭友经典语录', 91, 0.007275925481730231, 'fyjdyl'),\n",
      " ('阳升', 89, 0.007116015031582314, 'xiaoyangsheng'),\n",
      " ('饭而不否', 87, 0.006956104581434397, 'dyxin'),\n",
      " ('春燈', 85, 0.006796194131286479, 'aristotle'),\n",
      " ('西域王子袁大力', 84, 0.006716238906212521, 'Charlotteyr1'),\n",
      " ('果照', 81, 0.0064763732309906456, '~q3PAKFOIRO8'),\n",
      " ('李时珍的皮', 80, 0.0063964180059166865, '闻言文'),\n",
      " ('太吾驴', 78, 0.006236507555768769, '周余'),\n",
      " ('gravity0', 75, 0.005996641880546894, 'gravity0'),\n",
      " ('Olittle', 74, 0.0059166866554729355, 'Olittle'),\n",
      " ('无聊图3号机', 73, 0.005836731430398976, '~vB7sBb_YWyI'),\n",
      " ('Talkaholic_L', 73, 0.005836731430398976, 'Talkaholic_L'),\n",
      " ('寒小梦', 71, 0.005676820980251059, 'cincylan')]\n"
     ]
    }
   ],
   "source": [
    "# 被引用top20的人\n",
    "repost_user_id_top = get_top([x['repost_status']['user']['id'] for x in statuses if 'repost_status' in x], num=30)\n",
    "repost_name_top =  [ (userid_to_info[x[0]]['name'] , x[1], x[2],  x[0]) for x in repost_user_id_top]\n",
    "pprint(repost_name_top)"
   ]
  },
  {
   "cell_type": "code",
   "execution_count": 40,
   "metadata": {},
   "outputs": [
    {
     "name": "stderr",
     "output_type": "stream",
     "text": [
      "100%|██████████| 5/5 [00:13<00:00,  2.76s/it]\n"
     ]
    },
    {
     "data": {
      "image/png": "[encoded data removed]",
      "text/plain": [
       "<PIL.Image.Image image mode=RGB size=288x240 at 0x12B0F8CC0>"
      ]
     },
     "execution_count": 40,
     "metadata": {},
     "output_type": "execute_result"
    }
   ],
   "source": [
    "splice_avatar30([userid_to_info[x[0]]['profile_image_url'] for x in repost_user_id_top])"
   ]
  },
  {
   "cell_type": "code",
   "execution_count": 41,
   "metadata": {},
   "outputs": [
    {
     "name": "stdout",
     "output_type": "stream",
     "text": [
      "[('未知', 23904, 0.3983734417705486),\n",
      " ('男', 20730, 0.34547696820211987),\n",
      " ('女', 15370, 0.2561495900273315)]\n"
     ]
    },
    {
     "data": {
      "text/html": [
       "<script>\n",
       "    require.config({\n",
       "        paths: {\n",
       "            'echarts': '/nbextensions/echarts/echarts.min'\n",
       "        }\n",
       "    });\n",
       "</script>\n",
       "    <div id=\"07f84ef970a5430fb5aca0212befae67\" style=\"width:800px;height:400px;\"></div>\n",
       "\n",
       "\n",
       "<script>\n",
       "    require(['echarts'], function(echarts) {\n",
       "        \n",
       "var myChart_07f84ef970a5430fb5aca0212befae67 = echarts.init(document.getElementById('07f84ef970a5430fb5aca0212befae67'), 'light', {renderer: 'canvas'});\n",
       "\n",
       "var option_07f84ef970a5430fb5aca0212befae67 = {\n",
       "    \"title\": [\n",
       "        {\n",
       "            \"left\": \"auto\",\n",
       "            \"top\": \"auto\",\n",
       "            \"textStyle\": {\n",
       "                \"fontSize\": 18\n",
       "            },\n",
       "            \"subtextStyle\": {\n",
       "                \"fontSize\": 12\n",
       "            }\n",
       "        }\n",
       "    ],\n",
       "    \"toolbox\": {\n",
       "        \"show\": true,\n",
       "        \"orient\": \"vertical\",\n",
       "        \"left\": \"95%\",\n",
       "        \"top\": \"center\",\n",
       "        \"feature\": {\n",
       "            \"saveAsImage\": {\n",
       "                \"show\": true,\n",
       "                \"title\": \"save as image\"\n",
       "            },\n",
       "            \"restore\": {\n",
       "                \"show\": true,\n",
       "                \"title\": \"restore\"\n",
       "            },\n",
       "            \"dataView\": {\n",
       "                \"show\": true,\n",
       "                \"title\": \"data view\"\n",
       "            }\n",
       "        }\n",
       "    },\n",
       "    \"series_id\": 2167954,\n",
       "    \"tooltip\": {\n",
       "        \"trigger\": \"item\",\n",
       "        \"triggerOn\": \"mousemove|click\",\n",
       "        \"axisPointer\": {\n",
       "            \"type\": \"line\"\n",
       "        },\n",
       "        \"textStyle\": {\n",
       "            \"fontSize\": 14\n",
       "        },\n",
       "        \"backgroundColor\": \"rgba(50,50,50,0.7)\",\n",
       "        \"borderColor\": \"#333\",\n",
       "        \"borderWidth\": 0\n",
       "    },\n",
       "    \"series\": [\n",
       "        {\n",
       "            \"type\": \"pie\",\n",
       "            \"data\": [\n",
       "                {\n",
       "                    \"name\": \"\\u672a\\u77e5\",\n",
       "                    \"value\": 0.3983734417705486\n",
       "                },\n",
       "                {\n",
       "                    \"name\": \"\\u7537\",\n",
       "                    \"value\": 0.34547696820211987\n",
       "                },\n",
       "                {\n",
       "                    \"name\": \"\\u5973\",\n",
       "                    \"value\": 0.2561495900273315\n",
       "                }\n",
       "            ],\n",
       "            \"radius\": [\n",
       "                \"0%\",\n",
       "                \"75%\"\n",
       "            ],\n",
       "            \"center\": [\n",
       "                \"50%\",\n",
       "                \"50%\"\n",
       "            ],\n",
       "            \"label\": {\n",
       "                \"normal\": {\n",
       "                    \"show\": true,\n",
       "                    \"position\": \"outside\",\n",
       "                    \"textStyle\": {\n",
       "                        \"fontSize\": 12\n",
       "                    },\n",
       "                    \"formatter\": \"{b}: {d}%\"\n",
       "                },\n",
       "                \"emphasis\": {\n",
       "                    \"show\": true,\n",
       "                    \"textStyle\": {\n",
       "                        \"fontSize\": 12\n",
       "                    },\n",
       "                    \"formatter\": \"{b}: {d}%\"\n",
       "                }\n",
       "            },\n",
       "            \"seriesId\": 2167954\n",
       "        }\n",
       "    ],\n",
       "    \"legend\": [\n",
       "        {\n",
       "            \"data\": [\n",
       "                \"\\u672a\\u77e5\",\n",
       "                \"\\u7537\",\n",
       "                \"\\u5973\"\n",
       "            ],\n",
       "            \"selectedMode\": \"multiple\",\n",
       "            \"show\": true,\n",
       "            \"left\": \"center\",\n",
       "            \"top\": \"top\",\n",
       "            \"orient\": \"horizontal\",\n",
       "            \"textStyle\": {\n",
       "                \"fontSize\": 12\n",
       "            }\n",
       "        }\n",
       "    ],\n",
       "    \"animation\": true,\n",
       "    \"color\": [\n",
       "        \"#c23531\",\n",
       "        \"#2f4554\",\n",
       "        \"#61a0a8\",\n",
       "        \"#d48265\",\n",
       "        \"#749f83\",\n",
       "        \"#ca8622\",\n",
       "        \"#bda29a\",\n",
       "        \"#6e7074\",\n",
       "        \"#546570\",\n",
       "        \"#c4ccd3\",\n",
       "        \"#f05b72\",\n",
       "        \"#ef5b9c\",\n",
       "        \"#f47920\",\n",
       "        \"#905a3d\",\n",
       "        \"#fab27b\",\n",
       "        \"#2a5caa\",\n",
       "        \"#444693\",\n",
       "        \"#726930\",\n",
       "        \"#b2d235\",\n",
       "        \"#6d8346\",\n",
       "        \"#ac6767\",\n",
       "        \"#1d953f\",\n",
       "        \"#6950a1\",\n",
       "        \"#918597\",\n",
       "        \"#f6f5ec\"\n",
       "    ]\n",
       "};\n",
       "myChart_07f84ef970a5430fb5aca0212befae67.setOption(option_07f84ef970a5430fb5aca0212befae67);\n",
       "\n",
       "    });\n",
       "</script>\n"
      ],
      "text/plain": [
       "<pyecharts.charts.pie.Pie at 0x12d289278>"
      ]
     },
     "execution_count": 41,
     "metadata": {},
     "output_type": "execute_result"
    }
   ],
   "source": [
    "# top20 gender\n",
    "gender_top = get_top([x['user']['gender'] or '未知' for x in statuses ], num=20)\n",
    "pprint(gender_top)\n",
    "huabing(gender_top)"
   ]
  },
  {
   "cell_type": "code",
   "execution_count": 45,
   "metadata": {},
   "outputs": [],
   "source": [
    "# converter = {\n",
    "#     'Jiangsu Sheng' : '江苏',\n",
    "#     'Shandong Sheng' : '山东',\n",
    "#     'Shanghai Shi' : '上海',\n",
    "#     'Beijing' : '北京',\n",
    "#     'Fujian': '福建',\n",
    "#     'Guangxi Zhuangzu Zizhiqu': '广西',\n",
    "#     'Yunnan': '云南',\n",
    "#     'Tianjin Shi': '天津',\n",
    "#     'Zhejiang Sheng' : '浙江',\n",
    "#     'Guangdong': '广东',\n",
    "#     'Sichuan': '四川',\n",
    "#     'Hebei': '河北',\n",
    "#     'TW': '台湾',\n",
    "#     'Liaoning': '辽宁',\n",
    "#     'Hunan': '湖南',\n",
    "#     'Changchun Shi': '长春',\n",
    "#     'KR' : '韩国',\n",
    "#     'Henan Sheng': '河南',\n",
    "#     'Shanxi Sheng': '山西',\n",
    "#     'Jilin Sheng': '吉林',\n",
    "#     'Anhui Sheng': '安徽',\n",
    "#     'Heilongjiang Sheng': '黑龙江',\n",
    "#     'Jiangxi Sheng': '江西',\n",
    "#     'ES': '西班牙',\n",
    "#     'Hubei': '湖北',\n",
    "#     'SJ' : '斯瓦尔巴群岛和扬马延岛',\n",
    "#     'Shaanxi': '陕西',\n",
    "#     'Gansu Sheng': '甘肃',\n",
    "#     'HK': '香港',\n",
    "#     'CA' : '加拿大',\n",
    "#     'Xinjiang Uygur Zizhiqu': '新疆',\n",
    "#     'JP' : '日本',\n",
    "#     'Hainan' : '海南',\n",
    "#     'FR': '法国'\n",
    "# }\n",
    "# torch.save(converter, 'geocoverter-en-cn.torch.pkl')"
   ]
  },
  {
   "cell_type": "code",
   "execution_count": 43,
   "metadata": {},
   "outputs": [
    {
     "name": "stderr",
     "output_type": "stream",
     "text": [
      "\r",
      "  0%|          | 0/60004 [00:00<?, ?it/s]"
     ]
    },
    {
     "name": "stdout",
     "output_type": "stream",
     "text": [
      "Loading formatted geocoded file...\n"
     ]
    },
    {
     "name": "stderr",
     "output_type": "stream",
     "text": [
      " 29%|██▊       | 17127/60004 [00:09<00:16, 2675.71it/s]"
     ]
    },
    {
     "name": "stdout",
     "output_type": "stream",
     "text": [
      "\n",
      " 2 OrderedDict([('lat', '43.60426'), ('lon', '1.44367'), ('name', 'Toulouse'), ('admin1', 'Midi-Pyrenees'), ('admin2', 'Departement de la Haute-Garonne'), ('cc', 'FR')]) \n",
      "\n"
     ]
    },
    {
     "name": "stderr",
     "output_type": "stream",
     "text": [
      " 59%|█████▉    | 35328/60004 [00:14<00:09, 2581.88it/s]"
     ]
    },
    {
     "name": "stdout",
     "output_type": "stream",
     "text": [
      "\n",
      " 2 OrderedDict([('lat', '13.36179'), ('lon', '103.86056'), ('name', 'Siem Reap'), ('admin1', 'Siem Reap'), ('admin2', ''), ('cc', 'KH')]) \n",
      "\n"
     ]
    },
    {
     "name": "stderr",
     "output_type": "stream",
     "text": [
      " 68%|██████▊   | 40942/60004 [00:15<00:08, 2264.31it/s]"
     ]
    },
    {
     "name": "stdout",
     "output_type": "stream",
     "text": [
      "Rolla, MO\n"
     ]
    },
    {
     "name": "stderr",
     "output_type": "stream",
     "text": [
      " 74%|███████▍  | 44552/60004 [00:17<00:08, 1911.85it/s]"
     ]
    },
    {
     "name": "stdout",
     "output_type": "stream",
     "text": [
      "\n",
      " 6 OrderedDict([('lat', '20.00583'), ('lon', '110.35417'), ('name', 'Qiongshan'), ('admin1', 'Hainan'), ('admin2', ''), ('cc', 'CN')]) \n",
      "\n"
     ]
    },
    {
     "name": "stderr",
     "output_type": "stream",
     "text": [
      " 81%|████████  | 48582/60004 [00:18<00:07, 1502.47it/s]"
     ]
    },
    {
     "name": "stdout",
     "output_type": "stream",
     "text": [
      "Rolla, MO\n"
     ]
    },
    {
     "name": "stderr",
     "output_type": "stream",
     "text": [
      " 98%|█████████▊| 59077/60004 [00:24<00:00, 988.20it/s] "
     ]
    },
    {
     "name": "stdout",
     "output_type": "stream",
     "text": [
      "\n",
      " 2 OrderedDict([('lat', '5.26176'), ('lon', '-0.75897'), ('name', 'Mumford'), ('admin1', 'Central'), ('admin2', 'Gomoa West'), ('cc', 'GH')]) \n",
      "\n",
      "\n",
      " 2 OrderedDict([('lat', '5.26176'), ('lon', '-0.75897'), ('name', 'Mumford'), ('admin1', 'Central'), ('admin2', 'Gomoa West'), ('cc', 'GH')]) \n",
      "\n"
     ]
    },
    {
     "name": "stderr",
     "output_type": "stream",
     "text": [
      "100%|██████████| 60004/60004 [00:26<00:00, 2307.49it/s]"
     ]
    },
    {
     "name": "stdout",
     "output_type": "stream",
     "text": [
      "\n",
      " 2 OrderedDict([('lat', '5.26176'), ('lon', '-0.75897'), ('name', 'Mumford'), ('admin1', 'Central'), ('admin2', 'Gomoa West'), ('cc', 'GH')]) \n",
      "\n",
      "[('未知', 23118, 0.3852743150456636),\n",
      " ('北京', 6448, 0.10745950269982),\n",
      " ('广东', 4265, 0.0710785947603493),\n",
      " ('上海', 3877, 0.06461235917605493),\n",
      " ('浙江', 1745, 0.029081394573695088),\n",
      " ('海外', 1653, 0.027548163455769617),\n",
      " ('江苏', 1484, 0.024731684554363042),\n",
      " ('辽宁', 1381, 0.0230151323245117),\n",
      " ('湖北', 1174, 0.01956536230917939),\n",
      " ('福建', 1031, 0.017182187854143056),\n",
      " ('四川', 1011, 0.016848876741550563),\n",
      " ('山东', 899, 0.014982334511032598),\n",
      " ('黑龙江', 547, 0.009116058929404706),\n",
      " ('萌萌星', 532, 0.008866075594960336),\n",
      " ('河南', 458, 0.007632824478368109),\n",
      " ('天津', 417, 0.006949536697553497),\n",
      " ('重庆', 415, 0.0069162055862942474),\n",
      " ('陕西', 401, 0.006682887807479501),\n",
      " ('湖南', 378, 0.006299580027998133),\n",
      " ('湛', 366, 0.006099593360442637)]\n"
     ]
    },
    {
     "name": "stderr",
     "output_type": "stream",
     "text": [
      "\n"
     ]
    },
    {
     "data": {
      "text/html": [
       "<script>\n",
       "    require.config({\n",
       "        paths: {\n",
       "            'echarts': '/nbextensions/echarts/echarts.min'\n",
       "        }\n",
       "    });\n",
       "</script>\n",
       "    <div id=\"e64ffa1b13804773ae05e59234bc731a\" style=\"width:800px;height:400px;\"></div>\n",
       "\n",
       "\n",
       "<script>\n",
       "    require(['echarts'], function(echarts) {\n",
       "        \n",
       "var myChart_e64ffa1b13804773ae05e59234bc731a = echarts.init(document.getElementById('e64ffa1b13804773ae05e59234bc731a'), 'light', {renderer: 'canvas'});\n",
       "\n",
       "var option_e64ffa1b13804773ae05e59234bc731a = {\n",
       "    \"title\": [\n",
       "        {\n",
       "            \"left\": \"auto\",\n",
       "            \"top\": \"auto\",\n",
       "            \"textStyle\": {\n",
       "                \"fontSize\": 18\n",
       "            },\n",
       "            \"subtextStyle\": {\n",
       "                \"fontSize\": 12\n",
       "            }\n",
       "        }\n",
       "    ],\n",
       "    \"toolbox\": {\n",
       "        \"show\": true,\n",
       "        \"orient\": \"vertical\",\n",
       "        \"left\": \"95%\",\n",
       "        \"top\": \"center\",\n",
       "        \"feature\": {\n",
       "            \"saveAsImage\": {\n",
       "                \"show\": true,\n",
       "                \"title\": \"save as image\"\n",
       "            },\n",
       "            \"restore\": {\n",
       "                \"show\": true,\n",
       "                \"title\": \"restore\"\n",
       "            },\n",
       "            \"dataView\": {\n",
       "                \"show\": true,\n",
       "                \"title\": \"data view\"\n",
       "            }\n",
       "        }\n",
       "    },\n",
       "    \"series_id\": 7387285,\n",
       "    \"tooltip\": {\n",
       "        \"trigger\": \"item\",\n",
       "        \"triggerOn\": \"mousemove|click\",\n",
       "        \"axisPointer\": {\n",
       "            \"type\": \"line\"\n",
       "        },\n",
       "        \"textStyle\": {\n",
       "            \"fontSize\": 14\n",
       "        },\n",
       "        \"backgroundColor\": \"rgba(50,50,50,0.7)\",\n",
       "        \"borderColor\": \"#333\",\n",
       "        \"borderWidth\": 0\n",
       "    },\n",
       "    \"series\": [\n",
       "        {\n",
       "            \"type\": \"pie\",\n",
       "            \"data\": [\n",
       "                {\n",
       "                    \"name\": \"\\u672a\\u77e5\",\n",
       "                    \"value\": 0.3852743150456636\n",
       "                },\n",
       "                {\n",
       "                    \"name\": \"\\u5317\\u4eac\",\n",
       "                    \"value\": 0.10745950269982\n",
       "                },\n",
       "                {\n",
       "                    \"name\": \"\\u5e7f\\u4e1c\",\n",
       "                    \"value\": 0.0710785947603493\n",
       "                },\n",
       "                {\n",
       "                    \"name\": \"\\u4e0a\\u6d77\",\n",
       "                    \"value\": 0.06461235917605493\n",
       "                },\n",
       "                {\n",
       "                    \"name\": \"\\u6d59\\u6c5f\",\n",
       "                    \"value\": 0.029081394573695088\n",
       "                },\n",
       "                {\n",
       "                    \"name\": \"\\u6d77\\u5916\",\n",
       "                    \"value\": 0.027548163455769617\n",
       "                },\n",
       "                {\n",
       "                    \"name\": \"\\u6c5f\\u82cf\",\n",
       "                    \"value\": 0.024731684554363042\n",
       "                },\n",
       "                {\n",
       "                    \"name\": \"\\u8fbd\\u5b81\",\n",
       "                    \"value\": 0.0230151323245117\n",
       "                },\n",
       "                {\n",
       "                    \"name\": \"\\u6e56\\u5317\",\n",
       "                    \"value\": 0.01956536230917939\n",
       "                },\n",
       "                {\n",
       "                    \"name\": \"\\u798f\\u5efa\",\n",
       "                    \"value\": 0.017182187854143056\n",
       "                },\n",
       "                {\n",
       "                    \"name\": \"\\u56db\\u5ddd\",\n",
       "                    \"value\": 0.016848876741550563\n",
       "                },\n",
       "                {\n",
       "                    \"name\": \"\\u5c71\\u4e1c\",\n",
       "                    \"value\": 0.014982334511032598\n",
       "                },\n",
       "                {\n",
       "                    \"name\": \"\\u9ed1\\u9f99\\u6c5f\",\n",
       "                    \"value\": 0.009116058929404706\n",
       "                },\n",
       "                {\n",
       "                    \"name\": \"\\u840c\\u840c\\u661f\",\n",
       "                    \"value\": 0.008866075594960336\n",
       "                },\n",
       "                {\n",
       "                    \"name\": \"\\u6cb3\\u5357\",\n",
       "                    \"value\": 0.007632824478368109\n",
       "                },\n",
       "                {\n",
       "                    \"name\": \"\\u5929\\u6d25\",\n",
       "                    \"value\": 0.006949536697553497\n",
       "                },\n",
       "                {\n",
       "                    \"name\": \"\\u91cd\\u5e86\",\n",
       "                    \"value\": 0.0069162055862942474\n",
       "                },\n",
       "                {\n",
       "                    \"name\": \"\\u9655\\u897f\",\n",
       "                    \"value\": 0.006682887807479501\n",
       "                },\n",
       "                {\n",
       "                    \"name\": \"\\u6e56\\u5357\",\n",
       "                    \"value\": 0.006299580027998133\n",
       "                },\n",
       "                {\n",
       "                    \"name\": \"\\u6e5b\",\n",
       "                    \"value\": 0.006099593360442637\n",
       "                },\n",
       "                {\n",
       "                    \"name\": \"\\u5176\\u4ed6\",\n",
       "                    \"value\": 0.14005732951136607\n",
       "                }\n",
       "            ],\n",
       "            \"radius\": [\n",
       "                \"0%\",\n",
       "                \"75%\"\n",
       "            ],\n",
       "            \"center\": [\n",
       "                \"50%\",\n",
       "                \"50%\"\n",
       "            ],\n",
       "            \"label\": {\n",
       "                \"normal\": {\n",
       "                    \"show\": true,\n",
       "                    \"position\": \"outside\",\n",
       "                    \"textStyle\": {\n",
       "                        \"fontSize\": 12\n",
       "                    },\n",
       "                    \"formatter\": \"{b}: {d}%\"\n",
       "                },\n",
       "                \"emphasis\": {\n",
       "                    \"show\": true,\n",
       "                    \"textStyle\": {\n",
       "                        \"fontSize\": 12\n",
       "                    },\n",
       "                    \"formatter\": \"{b}: {d}%\"\n",
       "                }\n",
       "            },\n",
       "            \"seriesId\": 7387285\n",
       "        }\n",
       "    ],\n",
       "    \"legend\": [\n",
       "        {\n",
       "            \"data\": [\n",
       "                \"\\u672a\\u77e5\",\n",
       "                \"\\u5317\\u4eac\",\n",
       "                \"\\u5e7f\\u4e1c\",\n",
       "                \"\\u4e0a\\u6d77\",\n",
       "                \"\\u6d59\\u6c5f\",\n",
       "                \"\\u6d77\\u5916\",\n",
       "                \"\\u6c5f\\u82cf\",\n",
       "                \"\\u8fbd\\u5b81\",\n",
       "                \"\\u6e56\\u5317\",\n",
       "                \"\\u798f\\u5efa\",\n",
       "                \"\\u56db\\u5ddd\",\n",
       "                \"\\u5c71\\u4e1c\",\n",
       "                \"\\u9ed1\\u9f99\\u6c5f\",\n",
       "                \"\\u840c\\u840c\\u661f\",\n",
       "                \"\\u6cb3\\u5357\",\n",
       "                \"\\u5929\\u6d25\",\n",
       "                \"\\u91cd\\u5e86\",\n",
       "                \"\\u9655\\u897f\",\n",
       "                \"\\u6e56\\u5357\",\n",
       "                \"\\u6e5b\",\n",
       "                \"\\u5176\\u4ed6\"\n",
       "            ],\n",
       "            \"selectedMode\": \"multiple\",\n",
       "            \"show\": true,\n",
       "            \"left\": \"center\",\n",
       "            \"top\": \"top\",\n",
       "            \"orient\": \"horizontal\",\n",
       "            \"textStyle\": {\n",
       "                \"fontSize\": 12\n",
       "            }\n",
       "        }\n",
       "    ],\n",
       "    \"animation\": true,\n",
       "    \"color\": [\n",
       "        \"#c23531\",\n",
       "        \"#2f4554\",\n",
       "        \"#61a0a8\",\n",
       "        \"#d48265\",\n",
       "        \"#749f83\",\n",
       "        \"#ca8622\",\n",
       "        \"#bda29a\",\n",
       "        \"#6e7074\",\n",
       "        \"#546570\",\n",
       "        \"#c4ccd3\",\n",
       "        \"#f05b72\",\n",
       "        \"#ef5b9c\",\n",
       "        \"#f47920\",\n",
       "        \"#905a3d\",\n",
       "        \"#fab27b\",\n",
       "        \"#2a5caa\",\n",
       "        \"#444693\",\n",
       "        \"#726930\",\n",
       "        \"#b2d235\",\n",
       "        \"#6d8346\",\n",
       "        \"#ac6767\",\n",
       "        \"#1d953f\",\n",
       "        \"#6950a1\",\n",
       "        \"#918597\",\n",
       "        \"#f6f5ec\"\n",
       "    ]\n",
       "};\n",
       "myChart_e64ffa1b13804773ae05e59234bc731a.setOption(option_e64ffa1b13804773ae05e59234bc731a);\n",
       "\n",
       "    });\n",
       "</script>\n"
      ],
      "text/plain": [
       "<pyecharts.charts.pie.Pie at 0x139e35e80>"
      ]
     },
     "execution_count": 43,
     "metadata": {},
     "output_type": "execute_result"
    }
   ],
   "source": [
    "# top20 location\n",
    "\n",
    "converter = torch.load('geocoverter-en-cn.torch.pkl')\n",
    "def geotransform(x):\n",
    "    if len(x) == 0:\n",
    "        return '未知'\n",
    "    if ',' in x and len(x.split(',')) == 2:\n",
    "        try:\n",
    "            a = x.split(',')\n",
    "            results = rg.search((float(a[0]),float(a[1]))) # default mode = 2\n",
    "            if len(results) == 0:\n",
    "                return '未知'\n",
    "            if results[0]['cc'] == 'CN':\n",
    "                if results[0]['admin1'] in converter:\n",
    "                    return converter[results[0]['admin1']]\n",
    "                print('\\n',len(results[0]['admin1']),results[0],'\\n')\n",
    "                return results[0]['admin1']\n",
    "            else:\n",
    "                if results[0]['cc'] in converter:\n",
    "                    return converter[results[0]['cc']]\n",
    "                print('\\n',len(results[0]['cc']),results[0],'\\n')\n",
    "                return results[0]['cc']\n",
    "        except Exception as e:\n",
    "            print(x)\n",
    "            return '未知'\n",
    "    if ' ' in x and len(x.split(' ')) == 2:\n",
    "        return x.split(' ')[0]\n",
    "    return x\n",
    "    \n",
    "location_top = get_top([geotransform(x['location']) for x in tqdm(statuses)], num=20)\n",
    "pprint(location_top)\n",
    "huabing(location_top)"
   ]
  },
  {
   "cell_type": "code",
   "execution_count": 46,
   "metadata": {},
   "outputs": [],
   "source": [
    "def remove_atag(s):\n",
    "    if '<a' not in s:\n",
    "        return s\n",
    "    start = s.find('>')\n",
    "    end = s.find('</a>',start)\n",
    "    return s[start+1:end]"
   ]
  },
  {
   "cell_type": "code",
   "execution_count": 47,
   "metadata": {},
   "outputs": [
    {
     "name": "stdout",
     "output_type": "stream",
     "text": [
      "[('网页', 12101, 0.2016698886740884),\n",
      " ('御飯 iOS', 10597, 0.17660489300713286),\n",
      " ('猫饭', 8776, 0.14625691620558628),\n",
      " ('糗事统计', 4350, 0.0724951669888674),\n",
      " ('尚饭', 3268, 0.05446303579761349),\n",
      " ('蘑菇饭', 3116, 0.05192987134191054),\n",
      " ('Android客户端', 2787, 0.046446903539764016),\n",
      " ('有饭', 2139, 0.035647623491767214),\n",
      " ('泡饭', 1831, 0.03051463235784281),\n",
      " ('「御飯 iPhone」', 1640, 0.027331511232584493),\n",
      " ('手机上网', 1604, 0.026731551229918004),\n",
      " ('饭团fantuan', 1356, 0.022598493433771082),\n",
      " ('Twidere', 1338, 0.022298513432437838),\n",
      " ('炒饭', 1205, 0.020081994533697755),\n",
      " ('小饭', 881, 0.014682354509699354),\n",
      " ('卐能的饭否', 319, 0.005316312245850277),\n",
      " ('冷饭', 303, 0.005049663355776282),\n",
      " ('PREFiX', 253, 0.004216385574295047),\n",
      " ('饭斯基', 215, 0.003583094460369309),\n",
      " ('FaWave', 211, 0.00351643223785081)]\n"
     ]
    },
    {
     "data": {
      "text/html": [
       "<script>\n",
       "    require.config({\n",
       "        paths: {\n",
       "            'echarts': '/nbextensions/echarts/echarts.min'\n",
       "        }\n",
       "    });\n",
       "</script>\n",
       "    <div id=\"55eb8def57ed4c91be7ac3ad138bd6ff\" style=\"width:800px;height:400px;\"></div>\n",
       "\n",
       "\n",
       "<script>\n",
       "    require(['echarts'], function(echarts) {\n",
       "        \n",
       "var myChart_55eb8def57ed4c91be7ac3ad138bd6ff = echarts.init(document.getElementById('55eb8def57ed4c91be7ac3ad138bd6ff'), 'light', {renderer: 'canvas'});\n",
       "\n",
       "var option_55eb8def57ed4c91be7ac3ad138bd6ff = {\n",
       "    \"title\": [\n",
       "        {\n",
       "            \"left\": \"auto\",\n",
       "            \"top\": \"auto\",\n",
       "            \"textStyle\": {\n",
       "                \"fontSize\": 18\n",
       "            },\n",
       "            \"subtextStyle\": {\n",
       "                \"fontSize\": 12\n",
       "            }\n",
       "        }\n",
       "    ],\n",
       "    \"toolbox\": {\n",
       "        \"show\": true,\n",
       "        \"orient\": \"vertical\",\n",
       "        \"left\": \"95%\",\n",
       "        \"top\": \"center\",\n",
       "        \"feature\": {\n",
       "            \"saveAsImage\": {\n",
       "                \"show\": true,\n",
       "                \"title\": \"save as image\"\n",
       "            },\n",
       "            \"restore\": {\n",
       "                \"show\": true,\n",
       "                \"title\": \"restore\"\n",
       "            },\n",
       "            \"dataView\": {\n",
       "                \"show\": true,\n",
       "                \"title\": \"data view\"\n",
       "            }\n",
       "        }\n",
       "    },\n",
       "    \"series_id\": 8371746,\n",
       "    \"tooltip\": {\n",
       "        \"trigger\": \"item\",\n",
       "        \"triggerOn\": \"mousemove|click\",\n",
       "        \"axisPointer\": {\n",
       "            \"type\": \"line\"\n",
       "        },\n",
       "        \"textStyle\": {\n",
       "            \"fontSize\": 14\n",
       "        },\n",
       "        \"backgroundColor\": \"rgba(50,50,50,0.7)\",\n",
       "        \"borderColor\": \"#333\",\n",
       "        \"borderWidth\": 0\n",
       "    },\n",
       "    \"series\": [\n",
       "        {\n",
       "            \"type\": \"pie\",\n",
       "            \"data\": [\n",
       "                {\n",
       "                    \"name\": \"\\u7f51\\u9875\",\n",
       "                    \"value\": 0.2016698886740884\n",
       "                },\n",
       "                {\n",
       "                    \"name\": \"\\u5fa1\\u98ef iOS\",\n",
       "                    \"value\": 0.17660489300713286\n",
       "                },\n",
       "                {\n",
       "                    \"name\": \"\\u732b\\u996d\",\n",
       "                    \"value\": 0.14625691620558628\n",
       "                },\n",
       "                {\n",
       "                    \"name\": \"\\u7cd7\\u4e8b\\u7edf\\u8ba1\",\n",
       "                    \"value\": 0.0724951669888674\n",
       "                },\n",
       "                {\n",
       "                    \"name\": \"\\u5c1a\\u996d\",\n",
       "                    \"value\": 0.05446303579761349\n",
       "                },\n",
       "                {\n",
       "                    \"name\": \"\\u8611\\u83c7\\u996d\",\n",
       "                    \"value\": 0.05192987134191054\n",
       "                },\n",
       "                {\n",
       "                    \"name\": \"Android\\u5ba2\\u6237\\u7aef\",\n",
       "                    \"value\": 0.046446903539764016\n",
       "                },\n",
       "                {\n",
       "                    \"name\": \"\\u6709\\u996d\",\n",
       "                    \"value\": 0.035647623491767214\n",
       "                },\n",
       "                {\n",
       "                    \"name\": \"\\u6ce1\\u996d\",\n",
       "                    \"value\": 0.03051463235784281\n",
       "                },\n",
       "                {\n",
       "                    \"name\": \"\\u300c\\u5fa1\\u98ef iPhone\\u300d\",\n",
       "                    \"value\": 0.027331511232584493\n",
       "                },\n",
       "                {\n",
       "                    \"name\": \"\\u624b\\u673a\\u4e0a\\u7f51\",\n",
       "                    \"value\": 0.026731551229918004\n",
       "                },\n",
       "                {\n",
       "                    \"name\": \"\\u996d\\u56e2fantuan\",\n",
       "                    \"value\": 0.022598493433771082\n",
       "                },\n",
       "                {\n",
       "                    \"name\": \"Twidere\",\n",
       "                    \"value\": 0.022298513432437838\n",
       "                },\n",
       "                {\n",
       "                    \"name\": \"\\u7092\\u996d\",\n",
       "                    \"value\": 0.020081994533697755\n",
       "                },\n",
       "                {\n",
       "                    \"name\": \"\\u5c0f\\u996d\",\n",
       "                    \"value\": 0.014682354509699354\n",
       "                },\n",
       "                {\n",
       "                    \"name\": \"\\u5350\\u80fd\\u7684\\u996d\\u5426\",\n",
       "                    \"value\": 0.005316312245850277\n",
       "                },\n",
       "                {\n",
       "                    \"name\": \"\\u51b7\\u996d\",\n",
       "                    \"value\": 0.005049663355776282\n",
       "                },\n",
       "                {\n",
       "                    \"name\": \"PREFiX\",\n",
       "                    \"value\": 0.004216385574295047\n",
       "                },\n",
       "                {\n",
       "                    \"name\": \"\\u996d\\u65af\\u57fa\",\n",
       "                    \"value\": 0.003583094460369309\n",
       "                },\n",
       "                {\n",
       "                    \"name\": \"FaWave\",\n",
       "                    \"value\": 0.00351643223785081\n",
       "                },\n",
       "                {\n",
       "                    \"name\": \"\\u5176\\u4ed6\",\n",
       "                    \"value\": 0.02856476234917693\n",
       "                }\n",
       "            ],\n",
       "            \"radius\": [\n",
       "                \"0%\",\n",
       "                \"75%\"\n",
       "            ],\n",
       "            \"center\": [\n",
       "                \"50%\",\n",
       "                \"50%\"\n",
       "            ],\n",
       "            \"label\": {\n",
       "                \"normal\": {\n",
       "                    \"show\": true,\n",
       "                    \"position\": \"outside\",\n",
       "                    \"textStyle\": {\n",
       "                        \"fontSize\": 12\n",
       "                    },\n",
       "                    \"formatter\": \"{b}: {d}%\"\n",
       "                },\n",
       "                \"emphasis\": {\n",
       "                    \"show\": true,\n",
       "                    \"textStyle\": {\n",
       "                        \"fontSize\": 12\n",
       "                    },\n",
       "                    \"formatter\": \"{b}: {d}%\"\n",
       "                }\n",
       "            },\n",
       "            \"seriesId\": 8371746\n",
       "        }\n",
       "    ],\n",
       "    \"legend\": [\n",
       "        {\n",
       "            \"data\": [\n",
       "                \"\\u7f51\\u9875\",\n",
       "                \"\\u5fa1\\u98ef iOS\",\n",
       "                \"\\u732b\\u996d\",\n",
       "                \"\\u7cd7\\u4e8b\\u7edf\\u8ba1\",\n",
       "                \"\\u5c1a\\u996d\",\n",
       "                \"\\u8611\\u83c7\\u996d\",\n",
       "                \"Android\\u5ba2\\u6237\\u7aef\",\n",
       "                \"\\u6709\\u996d\",\n",
       "                \"\\u6ce1\\u996d\",\n",
       "                \"\\u300c\\u5fa1\\u98ef iPhone\\u300d\",\n",
       "                \"\\u624b\\u673a\\u4e0a\\u7f51\",\n",
       "                \"\\u996d\\u56e2fantuan\",\n",
       "                \"Twidere\",\n",
       "                \"\\u7092\\u996d\",\n",
       "                \"\\u5c0f\\u996d\",\n",
       "                \"\\u5350\\u80fd\\u7684\\u996d\\u5426\",\n",
       "                \"\\u51b7\\u996d\",\n",
       "                \"PREFiX\",\n",
       "                \"\\u996d\\u65af\\u57fa\",\n",
       "                \"FaWave\",\n",
       "                \"\\u5176\\u4ed6\"\n",
       "            ],\n",
       "            \"selectedMode\": \"multiple\",\n",
       "            \"show\": true,\n",
       "            \"left\": \"center\",\n",
       "            \"top\": \"top\",\n",
       "            \"orient\": \"horizontal\",\n",
       "            \"textStyle\": {\n",
       "                \"fontSize\": 12\n",
       "            }\n",
       "        }\n",
       "    ],\n",
       "    \"animation\": true,\n",
       "    \"color\": [\n",
       "        \"#c23531\",\n",
       "        \"#2f4554\",\n",
       "        \"#61a0a8\",\n",
       "        \"#d48265\",\n",
       "        \"#749f83\",\n",
       "        \"#ca8622\",\n",
       "        \"#bda29a\",\n",
       "        \"#6e7074\",\n",
       "        \"#546570\",\n",
       "        \"#c4ccd3\",\n",
       "        \"#f05b72\",\n",
       "        \"#ef5b9c\",\n",
       "        \"#f47920\",\n",
       "        \"#905a3d\",\n",
       "        \"#fab27b\",\n",
       "        \"#2a5caa\",\n",
       "        \"#444693\",\n",
       "        \"#726930\",\n",
       "        \"#b2d235\",\n",
       "        \"#6d8346\",\n",
       "        \"#ac6767\",\n",
       "        \"#1d953f\",\n",
       "        \"#6950a1\",\n",
       "        \"#918597\",\n",
       "        \"#f6f5ec\"\n",
       "    ]\n",
       "};\n",
       "myChart_55eb8def57ed4c91be7ac3ad138bd6ff.setOption(option_55eb8def57ed4c91be7ac3ad138bd6ff);\n",
       "\n",
       "    });\n",
       "</script>\n"
      ],
      "text/plain": [
       "<pyecharts.charts.pie.Pie at 0x12b290438>"
      ]
     },
     "execution_count": 47,
     "metadata": {},
     "output_type": "execute_result"
    }
   ],
   "source": [
    "# top20 source\n",
    "source_top = get_top([remove_atag(x['source']) for x in statuses ], num=20)\n",
    "pprint(source_top)\n",
    "huabing(source_top)"
   ]
  },
  {
   "cell_type": "code",
   "execution_count": null,
   "metadata": {},
   "outputs": [],
   "source": []
  },
  {
   "cell_type": "code",
   "execution_count": 48,
   "metadata": {},
   "outputs": [],
   "source": [
    "# nlp part"
   ]
  },
  {
   "cell_type": "code",
   "execution_count": 49,
   "metadata": {},
   "outputs": [],
   "source": [
    "def myfilter(s):\n",
    "    s = s.replace('<strong>','')\n",
    "    s = s.replace('</strong>','')\n",
    "    while '转@' in s:\n",
    "        pos = s.find('转@')\n",
    "        end = len(s)\n",
    "        for endsym in [' ', ']', '：',':','@']:\n",
    "            end2 = s.find(endsym,pos+2)\n",
    "            if end2 == -1:\n",
    "                end2 = len(s)\n",
    "            end = min(end,end2)\n",
    "        if end-pos > 15:\n",
    "            print('alert [转@] too long',s)\n",
    "            s = s[:pos] + s[pos+2:]\n",
    "        else:\n",
    "            s = s[:pos] + s[end:]\n",
    "    while '@' in s:\n",
    "        pos = s.find('@')\n",
    "        end = len(s)\n",
    "        for endsym in [' ', ']', '：',':','@', '\\n']:\n",
    "            end2 = s.find(endsym,pos+1)\n",
    "            if end2 == -1:\n",
    "                end2 = len(s)\n",
    "            end = min(end,end2)\n",
    "        if end-pos > 15:\n",
    "            print('alert [@] too long',s)\n",
    "            s = s[:pos] + s[pos+1:]\n",
    "        else:\n",
    "            s = s[:pos] + s[end:]\n",
    "    if '@' in s:\n",
    "        print('alert @ in ', s)\n",
    "    return s"
   ]
  },
  {
   "cell_type": "code",
   "execution_count": 50,
   "metadata": {},
   "outputs": [
    {
     "name": "stderr",
     "output_type": "stream",
     "text": [
      " 13%|█▎        | 7926/60004 [00:00<00:03, 15678.08it/s]"
     ]
    },
    {
     "name": "stdout",
     "output_type": "stream",
     "text": [
      "alert [@] too long (1/2) @sein首先这个确实很反人类，强烈抵制，但是他给的地址真的是能打开的，但是只能用微信打开，而且可以开票地址如下：http://fan.fo/XCqu6\n",
      "点击<a href=\"https://support.weixin.qq.com/cgi-bin/mmsupport-bin/getopendays?from=groupmessage&amp;isappinstalled=0\">这里</a>，看看今天是你和微信同行的第几天？\n",
      "转\n",
      "alert [@] too long 决定2019年在社交网络上装个死，朋友圈呀微博呀豆瓣广播呀。所有群里除非工作需要，不@了也可以不出现。本来想直接废了现在的微信账号只用跟家人密友的小号的，但接翻译办签证还是得用到。\n",
      "alert [@] too long 以前的人有名有字有号，现在大家都只有一个名字了。出国之后即使是同一个实验室的中国人，有的人我只知道他们名字怎么读，具体是哪个字已经不确定了。平常微信里要不就是长按自动@他们的昵称，要不就是直接用拼音。这么想想有点可怕。\n"
     ]
    },
    {
     "name": "stderr",
     "output_type": "stream",
     "text": [
      " 25%|██▍       | 14779/60004 [00:00<00:02, 16550.70it/s]"
     ]
    },
    {
     "name": "stdout",
     "output_type": "stream",
     "text": [
      "alert [@] too long 手机匆忙落在办公室拿回来发现小朋友在微信群里@我说有电话，团队智商堪忧啊，后来想想是他帮我接的电话，也dei\n"
     ]
    },
    {
     "name": "stderr",
     "output_type": "stream",
     "text": [
      " 33%|███▎      | 20015/60004 [00:01<00:02, 16871.62it/s]"
     ]
    },
    {
     "name": "stdout",
     "output_type": "stream",
     "text": [
      "alert [@] too long 你有Bing啊！   微软的Bing，这个英文单词是一堆的意思，同义尖锐响亮的声音。中文翻译为必应，同音同义，有搜必应也恰如其分。互联网是个信息的储存载体，人对信息的需求还是通过一对多的形式，就如同微信的群里的 或@所有人，等同于饭否上万能的饭否机器人\n",
      "alert [@] too long   微软的Bing，这个英文单词是一堆的意思，同义尖锐响亮的声音。中文翻译为必应，同音同义，有搜必应也恰如其分。互联网是个信息的储存载体，人对信息的需求还是通过一对多的形式，就如同微信的群里的 或@所有人，等同于饭否上万能的饭否机器人。\n",
      "alert [@] too long  微软的Bing，这个英文单词是一堆的意思，同义尖锐响亮的声音。中文翻译为必应，同音同义，有搜必应也恰如其分。互联网是个信息的储存载体，人对信息的需求还是通过一对多的形式，就如同微信的群里的 或@所有人，等同于饭否上万能的饭否机器人。\n",
      "alert [@] too long 过去在NGO  新京报15日采访到原举报人弦子和微博上最早发布人@麦烧同学，两人均希望与朱军对薄公堂，然而报道很快在其网站和微博微信上被删除。16日，另一家媒体“Vista 看天下政商智库”又发布了对当事人的另一篇采访报导。“麦烧同学”在采访中公布了她的本名是徐\n",
      "alert [@] too long 新京报15日采访到原举报人弦子和微博上最早发布人@麦烧同学，两人均希望与朱军对薄公堂，然而报道很快在其网站和微博微信上被删除。16日，另一家媒体“Vista 看天下政商智库”又发布了对当事人的另一篇采访报导。“麦烧同学”在采访中公布了她的本名是徐超，曾做过环境领域的记者。\n",
      "alert [@] too long 好的设计有生命力，比如@这个符号，随着微信的普及，这个藏在默认键盘第二屏的符号，大爷大妈都会用了。不知道微信的产品经理当初是如何考虑“提醒”功能的用户教育的\n",
      "alert [@] too long @介里安安我是直接微信支付就行了\n"
     ]
    },
    {
     "name": "stderr",
     "output_type": "stream",
     "text": [
      " 39%|███▉      | 23288/60004 [00:01<00:02, 14641.50it/s]"
     ]
    },
    {
     "name": "stdout",
     "output_type": "stream",
     "text": [
      "alert [@] too long 把批评托班老师的微信语音错发到了老师所在的群。一分钟后校长@被我点名的老师让她限期改正。而我，直到校长@我说他们会继续努力让家长满意并且感谢我的反馈时才发现微信发错了群。希望小宝不会因此受到虐待😂\n",
      "alert [@] too long 把批评托班老师的微信语音错发到了老师所在的群。一分钟后校长被我点名的老师让她限期改正。而我，直到校长@我说他们会继续努力让家长满意并且感谢我的反馈时才发现微信发错了群。希望小宝不会因此受到虐待😂\n",
      "alert [@] too long 表姐读初二的儿子早晨叫不醒，上课就瞌睡，被老师在家长微信群@好多次。表姐夫连夜在客厅沙发蹲坑守候，发现这小子趁夜深人静摸黑到客厅打开路由器，趴被窝里玩手游……姐夫埋怨表姐提供作案工具.手机；表姐要斩草除根除恶务尽.断网……爷俩儿这回却是空前绝后的团结，一致反对！\n",
      "alert [@] too long"
     ]
    },
    {
     "name": "stderr",
     "output_type": "stream",
     "text": [
      " 44%|████▍     | 26445/60004 [00:01<00:02, 15147.99it/s]"
     ]
    },
    {
     "name": "stdout",
     "output_type": "stream",
     "text": [
      " @好一棵大白菜不好意思啊，不在上海。可以加微信聊一下。我私信你联系方式。\n"
     ]
    },
    {
     "name": "stderr",
     "output_type": "stream",
     "text": [
      " 50%|████▉     | 29858/60004 [00:01<00:01, 15284.87it/s]"
     ]
    },
    {
     "name": "stdout",
     "output_type": "stream",
     "text": [
      "alert [@] too long ……  草泥马，被一个变态同学缠上了，微信、QQ拿各种小号加我，头像都一样，拉黑一个又来一个，在所有的群@我说话，跟所有同学说我跟他怎么怎么\n",
      "alert [@] too long 春光明媚，带着家人外出踏青再闲适不过，此时若有同事微信@你聊工作，心中万千个草泥马飞过…\n",
      "alert [@] too long 郭桂山，网名散人。诗人，曾从事写诗、摇滚乐、绘画、行为艺术。从事媒体十余年，国内媒体主编，国际媒体总编。如有约稿访谈等，敬请发函341706254@qq.com或加微信sanren2005。出版专著《被颠覆的汽车帝国》，《风口上的汽车新商业》，《重塑汽车电商未来》。\n"
     ]
    },
    {
     "name": "stderr",
     "output_type": "stream",
     "text": [
      " 55%|█████▍    | 32882/60004 [00:02<00:02, 13518.39it/s]"
     ]
    },
    {
     "name": "stdout",
     "output_type": "stream",
     "text": [
      "alert [@] too long 我加了一个肉夹馍外卖群，群主天天@我点餐。群主微信名叫“奋飞的海燕”，我一看到这名字就想起幼时默写并背诵精彩片段的高尔基。\n",
      "alert [@] too long  我们唧唧喳喳照相馆要招个客户助理，女生，形象佳，亲切开朗，善于沟通，耐心细致者为宜。也欢迎有潜质的应届毕业生。工作地点在北京798，可发简历至：peggy.zhao@gigizhazha.com，或直接加微信peggyzhao0212。请各位帮忙传播下吧，多谢。：））\n",
      "alert [@] too long  我们唧唧喳喳照相馆要招个客户助理，女生，形象佳，亲切开朗，善于沟通，耐心细致者为宜。也欢迎有潜质的应届毕业生。工作地点在北京798，可发简历至：peggy.zhao@gigizhazha.com，或直接加微信peggyzhao0212。请各位帮忙传播下吧，多谢。：））\n",
      "alert [@] too long  我们唧唧喳喳照相馆要招个客户助理，女生，形象佳，亲切开朗，善于沟通，耐心细致者为宜。也欢迎有潜质的应届毕业生。工作地点在北京798，可发简历至：peggy.zhao@gigizhazha.com，或直接加微信peggyzhao0212。请各位帮忙传播下吧，多谢。：））\n",
      "alert [@] too long  我们唧唧喳喳照相馆要招个客户助理，女生，形象佳，亲切开朗，善于沟通，耐心细致者为宜。也欢迎有潜质的应届毕业生。工作地点在北京798，可发简历至：peggy.zhao@gigizhazha.com，或直接加微信peggyzhao0212。请各位帮忙传播下吧，多谢。：））\n",
      "alert [@] too long 我们唧唧喳喳照相馆要招个客户助理，女生，形象佳，亲切开朗，善于沟通，耐心细致者为宜。也欢迎有潜质的应届毕业生。工作地点在北京798，可发简历至：peggy.zhao@gigizhazha.com，或直接加微信peggyzhao0212。请各位帮忙传播下吧，多谢。：））\n",
      "alert [@] too long @爽朗君QvQ可以。微信搜美食台，今天放的就是我做的。\n",
      "alert [@] too long 我这傻逼领导一天早6晚11不间断的在微信群里叮咣的布置工作就够可以了，现在钉钉也用起来了，两边群组不停歇的发各种、每个小时都在发工作内容、你不回他还不行、挨个@,大年初五就特么在群里布置工作，完事还说祝大家春节快乐，提醒大家这年也过的差不多了、回来努力工作了该！纯傻逼！\n",
      "alert [@] too long  我说怎么这么多人@我。原来是被你转发了。。。好希望能加小姐姐的微信呐。\n"
     ]
    },
    {
     "name": "stderr",
     "output_type": "stream",
     "text": [
      " 59%|█████▉    | 35617/60004 [00:02<00:01, 12343.95it/s]"
     ]
    },
    {
     "name": "stdout",
     "output_type": "stream",
     "text": [
      "alert [@] too long http://fan.fo/WmwJc 转的，部门聚会，大家玩起大冒险。要求输的一方，给微信上排序为25的好友，发一句“睡了吗？” 轮到小町的时候，她果断说：换一个吧，这个不行。 大家一看，觉得有故事，便故意起哄，非这#@个人不可。小町看糊弄不过去，只好坦白交代，那个人是她前任。\n",
      "alert [@] too long 从上周开始，每周一要提前一小时来公司开会，到这 HR 微信语言打给我们打电话问我们到没到，等人到齐后 HR 在公司群@所有人晚到或缺席要提前请假。按着步步紧逼的节奏，下周开会估计要打卡记考勤了。\n",
      "alert [@] too long 从上周开始，每周一要提前一小时来公司开会，到这 HR 微信语言打给我们打电话问我们到没到，等人到齐后 HR 在公司群@所有人晚到或缺席要提前请假。按着步步紧逼的节奏，下周开会估计要打卡记考勤了。\n"
     ]
    },
    {
     "name": "stderr",
     "output_type": "stream",
     "text": [
      " 66%|██████▌   | 39591/60004 [00:02<00:01, 11156.06it/s]"
     ]
    },
    {
     "name": "stdout",
     "output_type": "stream",
     "text": [
      "alert [@] too long   ‪RT @try2feel（twitter） 微信官方声称，微信不留存用户聊天记录。好吧，不做技术解读，发张图应该直观点。‬\n",
      "alert [@] too long 。。。。下班之前还@企业微信让开发个电脑关机打卡功能，结果上了地铁才想起来打卡。\n",
      "alert [@] too long 真的好烦那种自己只是被抄送在邮件里，却被正文某个角落@到然后被安排的任务。日妈你们要派活不能稍微弄得正式一点点吗，还是天真以为@一下名字就能警铃大作？更过分的是同样的人，有时候还在微信群里分派任务，这时候又不记得@人名了，谁他妈有功夫盯着聊天记录看自己有没有被提到啊？\n",
      "alert [@] too long 真的好烦那种自己只是被抄送在邮件里，却被正文某个角落到然后被安排的任务。日妈你们要派活不能稍微弄得正式一点点吗，还是天真以为@一下名字就能警铃大作？更过分的是同样的人，有时候还在微信群里分派任务，这时候又不记得@人名了，谁他妈有功夫盯着聊天记录看自己有没有被提到啊？\n",
      "alert [@] too long 真的好烦那种自己只是被抄送在邮件里，却被正文某个角落到然后被安排的任务。日妈你们要派活不能稍微弄得正式一点点吗，还是天真以为一下名字就能警铃大作？更过分的是同样的人，有时候还在微信群里分派任务，这时候又不记得@人名了，谁他妈有功夫盯着聊天记录看自己有没有被提到啊？\n",
      "alert [@] too long ‪RT @try2feel（twitter） 微信官方声称，微信不留存用户聊天记录。好吧，不做技术解读，发张图应该直观点。‬\n",
      "alert [@] too long 来自 TualatriX（@tualatrix）的推文，写于 2017年12月31日 上午10:03 - 原来微信的「跳一跳」是学这款 Bottle Flip 的： https://t.co/DRKmRKNRuE https://t.co/QXy65VgnpU\n",
      "alert [@] too long 2017年9月：微博博主@奶騎本騎發了一條內容為「『佛系追星』」一剛，受教了，阿彌陀佛善哉善哉」的博文\n",
      "2017年11月21日，微信公號「留通社」：《胃垮了，頭禿了，離婚了，90後又開始追求佛系生活了？》「佛系」一詞終於脫離垂直圈子（社交），開始進入大眾視野。\n",
      "alert [@] too long 我早就想说这个头像太可爱了！  自从掌握了P圣诞帽功能以后我就跃跃欲试......只要看到有谁在朋友圈发给我一个圣诞帽@微信官方......我就P一个圣诞帽头像发给他......以至于现在大家都喊我微信官方😂😂😂\n",
      "alert [@] too long 朋友圈里@微信要帽子戴是什么梗？？看了一天了也没见谁戴帽子啊。\n",
      "alert [@] too long 蛤蛤蛤蛤饭否官方也诚挚邀请你！   自从掌握了P圣诞帽功能以后我就跃跃欲试......只要看到有谁在朋友圈发给我一个圣诞帽@微信官方......我就P一个圣诞帽头像发给他......以至于现在大家都喊我微信官方😂😂😂\n",
      "alert [@] too long 俺们响应（）的号召，不过洋节。 可别闹了，我们这个破网站都快倒闭了   人家隔壁马化腾那里都能呼叫一下@微信团队，就能给头像自动戴个圣诞帽，咱们饭否是否也该表示一下呢？😑😣😶😮😠😐😕😟😦\n",
      "alert [@] too long  人家隔壁马化腾那里都能呼叫一下@微信团队，就能给头像自动戴个圣诞帽，咱们饭否是否也该表示一下呢？😑😣😶😮😠😐😕😟😦\n",
      "alert [@] too long 人家隔壁马化腾那里都能呼叫一下@微信团队，就能给头像自动戴个圣诞帽，咱们饭否是否也该表示一下呢？@万能的饭否 😑😣😶😮😠😐😕😟😦\n",
      "alert [@] too long 「三分七分半 打开朋友圈，满屏的@微信官方要圣诞帽，这一晚上都发生了什么」\n",
      "alert [@] too long 打开朋友圈，满屏的@微信官方要圣诞帽，这一晚上都发生了什么\n",
      "alert [@] too long 其实朋友圈@微信官方要圣诞帽和以前马化腾生日，转发消息到qq群另q币本质上是一样的。\n",
      "alert [@] too long 从所谓的「@微信官方」来刷屏圣诞帽头像来看，「微信」作为一个品牌这方面，大家对其信任度和亲和度真的相当高啊……\n",
      "alert [@] too long 想明白小公司上线为什么在微信群里@领导，在群里大家都看得到，出了问题你也无法抵赖。私底下发信息就不一样了。\n",
      "alert [@] too long 老板去开会，也不打我电话又希望我马上回复他，一直在一个群里面@我办公室和隔壁办公室的同事，真是哭笑不得，哈哈哈，搞得我后来不看微信心里都有压力，感觉我要变成神经病了。\n"
     ]
    },
    {
     "name": "stderr",
     "output_type": "stream",
     "text": [
      " 71%|███████   | 42725/60004 [00:02<00:01, 13065.46it/s]"
     ]
    },
    {
     "name": "stdout",
     "output_type": "stream",
     "text": [
      "alert [@] too long 微信群@人，感觉和饭否隔空对话是一样的\n",
      "alert [@] too long 盯着一个鸡窝的好烦。 主任刚刚群里发微信，特意@我，叫我明天发型弄弄好，明天科里拍宣传片……妈个鸡！我的天天很乱吗？\n",
      "alert [@] too long 嗯……我不婚不育的决定还是很对的…… 😂\n",
      "\n",
      "RT ‪@Orzzai（twitter） 朋友在产房里上接不接下气的给我们发微信劝大家结婚前想清楚因为‬\n",
      "\n",
      "‪“产房里所有需要签字的东西 只能配偶来签 妈都不行”‬\n"
     ]
    },
    {
     "name": "stderr",
     "output_type": "stream",
     "text": [
      " 78%|███████▊  | 46800/60004 [00:03<00:01, 11404.94it/s]"
     ]
    },
    {
     "name": "stdout",
     "output_type": "stream",
     "text": [
      "alert [@] too long http://t.cn/RO0Kec4 我是因为她才玩的糗百，@程。。昨晚梦见你跟别人结婚啦，自己在梦里特别后悔，分手一年多啦，我这个人渣提出的，早上醒啦以后打电话不接，微信QQ删啦，联系不上，一年前已经把我拉黑啦，我承认我是个人渣，但是我现在只想跟她结婚，我愿意付出我的所有，只\n",
      "alert [@] too long 我去，在高铁站找不到地铁口像问一个年轻工作人员问路，年轻小哥说：“往南边走，嘿感觉你好眼熟，你在哪个学校毕业的，会不会是校友”我说不会吧，小哥用超小的声音说#@％*微信*％~?，什么？我听不清楚，他说“可以加你的微信号吗”哈哈哈，套路啊，我今天明明很挫的啊。\n",
      "alert [@] too long  「 🍚  成为了分发者，有 15 个体验权限。想体验小饭请发微信号给 @猫弟，或参考教程自己搭建。教程地址：http://www.billlee.win/archives/139」\n",
      "alert [@] too long 「 🍚  成为了分发者，有 15 个体验权限。想体验小饭请发微信号给 @猫弟，或参考教程自己搭建。教程地址：http://www.billlee.win/archives/139」\n",
      "alert [@] too long 哭泣 我看不懂…… 🍚  成为了分发者，有 15 个体验权限。想体验小饭请发微信号给 @猫弟，或参考教程自己搭建。教程地址：http://www.billlee.win/archives/139\n",
      "alert [@] too long 啊，是发微信号吗？微信号：Freihow，求体验。   🍚  成为了分发者，有 15 个体验权限。想体验小饭请发微信号给 @猫弟，或参考教程自己搭建。教程地址：http://www.billlee.win/archives/139\n",
      "alert [@] too long 「  🍚  成为了分发者，有 15 个体验权限。想体验小饭请发微信号给 @猫弟，或参考教程自己搭建。教程地址：http://www.billlee.win/archives/139」\n",
      "alert [@] too long   🍚  成为了分发者，有 15 个体验权限。想体验小饭请发微信号给 @猫弟，或参考教程自己搭建。教程地址：http://www.billlee.win/archives/139\n",
      "alert [@] too long 微信群是个奇怪的东西，两个人有事情，明明可以私聊，却总喜欢在群里说事，不断@去，让全群里人都知道，手机响个没完没了。\n"
     ]
    },
    {
     "name": "stderr",
     "output_type": "stream",
     "text": [
      " 82%|████████▏ | 49501/60004 [00:03<00:00, 12363.05it/s]"
     ]
    },
    {
     "name": "stdout",
     "output_type": "stream",
     "text": [
      "alert [@] too long 刚才睡了个回笼觉，梦到我刷饭看到5个@，居然有两条是阿呆，他发现我的饭否账号了！头像就是微信的，转发了一两条写着？吓得我赶紧找小锁，还没找到，于是醒了。所以我要不要加上锁啊……\n",
      "alert [@] too long 一个晚上写了十个笑话了，还是想吐槽下我朋友，你七夕节结婚！娶了白富美！妈的还@我！我告诉你，我微信随个份子给你，就是不去看你们秀恩爱！哼，气死你！\n",
      "alert [@] too long 最近做的很机智的事情，把所有纹眉脱毛介绍对象的微博推广账号见一个点一个加入黑名单，感觉刷微博好多了；把好几十个微信服务号的推送耐心的一个个关闭推送（因为工作不能删，偶尔还是要去看），感觉微信清净了好多；公司自己电脑的wifi名改成@AAAAAA，轻松排列成全司第一个Wifi。\n"
     ]
    },
    {
     "name": "stderr",
     "output_type": "stream",
     "text": [
      " 92%|█████████▏| 55234/60004 [00:04<00:00, 12645.26it/s]"
     ]
    },
    {
     "name": "stdout",
     "output_type": "stream",
     "text": [
      "alert [@] too long 刚出门，被领导在微信群里@，说什么江湖救急，让我临时这个文案。以最快的速度写完了，打电话给领导确认，结果挂了电话半个小时过去了，群里没任何反应……我就被这么干耗着！\n",
      "alert [@] too long 微信群的群@提醒功能还是做得太失败了，刚打开几个学校的班级群和通知群看了下，还有不少群主认为自己发“@所有人”对群提醒有效。\n"
     ]
    },
    {
     "name": "stderr",
     "output_type": "stream",
     "text": [
      "100%|██████████| 60004/60004 [00:04<00:00, 12869.82it/s]"
     ]
    },
    {
     "name": "stdout",
     "output_type": "stream",
     "text": [
      "alert [@] too long 好的，在妙哉市集的微信公众号上下单了Absolute Fanfou by@田耐里，我真是慢别人好多拍#T恤#\n",
      "alert [@] too long 红旗渠征文启示  稿件投递：请登录征文官网http://www.hongqiquzw.cn，在投稿专区进行投递，或发邮件至zsw088809@163.com，并关注微信号hongqiquzw（红旗渠精神永放光芒）如有其他疑问，请登录征文官网查询联系方式：18210058853\n",
      "alert [@] too long   红旗渠征文启示\n",
      "  稿件投递：请登录征文官网http://www.hongqiquzw.cn，在投稿专区进行投递，或发邮件至zsw088809@163.com并关注微信号hongqiquzw（红旗渠精神永放光芒,如有其他疑问,请登录征文官网查询,联系方式：1821\n",
      "alert [@] too long 红旗渠征文启示\r\n",
      "  稿件投递：请登录征文官网http://www.hongqiquzw.cn，在投稿专区进行投递，或发邮件至zsw088809@163.com并关注微信号hongqiquzw（红旗渠精神永放光芒,如有其他疑问,请登录征文官网查询,联系方式：18210058853\n"
     ]
    },
    {
     "name": "stderr",
     "output_type": "stream",
     "text": [
      "\n"
     ]
    }
   ],
   "source": [
    "sentences = []\n",
    "for x in tqdm(statuses):\n",
    "    s = html.unescape(x['text']) \n",
    "    s = myfilter(s)\n",
    "    if keyword not in s:\n",
    "        continue\n",
    "    if '</' in s:\n",
    "        print(s)\n",
    "    ss = SentenceSplitter.split(s)\n",
    "    for t in ss:\n",
    "        if len(t) > 4:\n",
    "            sentences.append(t)\n",
    "    "
   ]
  },
  {
   "cell_type": "code",
   "execution_count": 51,
   "metadata": {},
   "outputs": [
    {
     "name": "stdout",
     "output_type": "stream",
     "text": [
      "128379\n"
     ]
    }
   ],
   "source": [
    "print(len(sentences))"
   ]
  },
  {
   "cell_type": "code",
   "execution_count": 52,
   "metadata": {},
   "outputs": [],
   "source": [
    "# 对sentences去重。。 拒绝转发的影响 （存疑？）\n",
    "# 不去重"
   ]
  },
  {
   "cell_type": "code",
   "execution_count": 53,
   "metadata": {},
   "outputs": [],
   "source": [
    "# sentences = list(set(sentences))"
   ]
  },
  {
   "cell_type": "code",
   "execution_count": 54,
   "metadata": {},
   "outputs": [
    {
     "name": "stdout",
     "output_type": "stream",
     "text": [
      "103834\n"
     ]
    }
   ],
   "source": [
    "print(len(list(set(sentences))))"
   ]
  },
  {
   "cell_type": "code",
   "execution_count": 55,
   "metadata": {},
   "outputs": [
    {
     "data": {
      "text/plain": [
       "[('524页。', 95, 0.0007399964168594552),\n",
       " ('用了七支半笔。', 92, 0.0007166281089586303),\n",
       " ('以后都不会做这傻事了。', 88, 0.0006854703650908638),\n",
       " ('把一个人的微信聊天记录抄了下来。', 82, 0.000638733749289214),\n",
       " ('5040 这个数字的来源是 7 的阶乘，同时柏拉图认为这个数字能被 1~10 以及 12 整除，可以迎合不同的需求。',\n",
       "  65,\n",
       "  0.0005063133378512062),\n",
       " ('微信的好友上限是 5040 人，这个数字与柏拉图在《法律篇》（The Laws）中为次级理想国设计的「理想公民人数」是一致的。',\n",
       "  55,\n",
       "  0.00042841897818178987),\n",
       " ('前100名转发+微信兑奖都算中奖，就是这么任性。', 52, 0.00040505067028096496),\n",
       " ('转发抽奖，奖品为意大利语初级教程10节，一对一，我教。', 52, 0.00040505067028096496),\n",
       " ('有效期至2019年底，不学作废。', 48, 0.0003738929264131984),\n",
       " ('出来的结果按照条数顺序依次往下就是奸情的浓稠程度。', 45, 0.00035052461851237354),\n",
       " ('一万次的屡试不爽。', 44, 0.0003427351825454319),\n",
       " ('新年，愿山海相逢，明朗可期，逝者不被消费，新生获得珍惜，你我聪慧独立，对流量微信，对压力陌陌，日子免于强咚，上马总有青云。',\n",
       "  42,\n",
       "  0.00032715631061154863),\n",
       " ('他学渣一个没办法，只好南下去腾讯（深圳本部还不要，只好去广州）搞莫名其妙的微信。', 40, 0.0003115774386776654),\n",
       " ('微信居然有窜消息这种致命bug！', 39, 0.0003037880027107237),\n",
       " ('7年前张小龙的两条饭否，如今微信7.0新版本发布，开屏BGM用了Cohen的音乐，Slogan解读了王阳明的文字。',\n",
       "  39,\n",
       "  0.0003037880027107237),\n",
       " ('想看全部，买会员。', 38, 0.00029599856674378207),\n",
       " ('因为👍=厉害=价值取向，❤️=喜欢=情绪表达。', 38, 0.00029599856674378207),\n",
       " ('公司楼下收停车费的老哥，叫“真诚”。', 38, 0.00029599856674378207),\n",
       " ('岁月风驰，变幻匆匆，不问人间值得，活着便已欢喜。', 38, 0.00029599856674378207),\n",
       " ('又一年了。', 38, 0.00029599856674378207)]"
      ]
     },
     "execution_count": 55,
     "metadata": {},
     "output_type": "execute_result"
    }
   ],
   "source": [
    "get_top(sentences,num=20)"
   ]
  },
  {
   "cell_type": "code",
   "execution_count": 56,
   "metadata": {},
   "outputs": [],
   "source": [
    "# torch.save(['尼玛', '卧槽', '傻逼', '对了', '有木有', '他妈'],'blacklist.torch.pkl' )\n",
    "def add_to_blacklist(w):\n",
    "    global blacklist\n",
    "    blacklist = torch.load('blacklist.torch.pkl')\n",
    "    blacklist.append(w)\n",
    "    torch.save(blacklist,'blacklist.torch.pkl')"
   ]
  },
  {
   "cell_type": "code",
   "execution_count": 57,
   "metadata": {},
   "outputs": [],
   "source": [
    "# 无意义\n",
    "blacklist = torch.load('blacklist.torch.pkl')"
   ]
  },
  {
   "cell_type": "code",
   "execution_count": 58,
   "metadata": {},
   "outputs": [
    {
     "name": "stderr",
     "output_type": "stream",
     "text": [
      "100%|██████████| 128379/128379 [04:15<00:00, 502.39it/s]\n"
     ]
    }
   ],
   "source": [
    "words_all = []\n",
    "\n",
    "segmentor = Segmentor()\n",
    "postagger = Postagger()\n",
    "recognizer = NamedEntityRecognizer()\n",
    "postagger.load('./ltp_data_v3.4.0/pos.model')\n",
    "segmentor.load('./ltp_data_v3.4.0/cws.model')\n",
    "recognizer.load('./ltp_data_v3.4.0/ner.model')\n",
    "\n",
    "#todo 情感分析\n",
    "\n",
    "for s in tqdm(sentences):\n",
    "    words = segmentor.segment(s)\n",
    "    postags = postagger.postag(words) #词性标注\n",
    "    netags = recognizer.recognize(words, postags) # 命名实体识别\n",
    "    for i in range(len(words)):\n",
    "        if words[i] in blacklist:\n",
    "            continue\n",
    "        words_all.append((words[i],postags[i],netags[i]))\n",
    "\n",
    "segmentor.release()\n",
    "postagger.release()\n",
    "recognizer.release()"
   ]
  },
  {
   "cell_type": "code",
   "execution_count": 59,
   "metadata": {},
   "outputs": [
    {
     "name": "stdout",
     "output_type": "stream",
     "text": [
      "2532934\n"
     ]
    }
   ],
   "source": [
    "print(len(words_all))"
   ]
  },
  {
   "cell_type": "code",
   "execution_count": null,
   "metadata": {},
   "outputs": [],
   "source": [
    "get_top([x[0] for x in words_all if len(x[0])>1 and x[1]!='wp'], num = 25)"
   ]
  },
  {
   "cell_type": "code",
   "execution_count": null,
   "metadata": {},
   "outputs": [],
   "source": [
    "posdict = {}\n",
    "nedict = {}\n",
    "for x in tqdm(words_all):\n",
    "    if x[1] not in posdict:\n",
    "        posdict[x[1]] = []\n",
    "    if x[2] not in nedict:\n",
    "        nedict[x[2]] = []\n",
    "    posdict[x[1]].append(x)\n",
    "    nedict[x[2]].append(x)"
   ]
  },
  {
   "cell_type": "code",
   "execution_count": null,
   "metadata": {},
   "outputs": [],
   "source": [
    "All_interested_words = []\n",
    "All_interested_words += posdict['i']\n",
    "All_interested_words += posdict['j']\n",
    "All_interested_words += posdict['n']\n",
    "All_interested_words += [x for x in posdict['ws'] if len(x[0])>=4 and not x[0].startswith('http://')]\n",
    "All_interested_words += posdict['nh']+ nedict['S-Nh']\n",
    "All_interested_words += posdict['ni']+posdict['nz']+nedict['S-Ns']"
   ]
  },
  {
   "cell_type": "code",
   "execution_count": null,
   "metadata": {},
   "outputs": [],
   "source": [
    "inte_top = get_top(All_interested_words, num = 40)\n",
    "\n",
    "pprint(inte_top)\n",
    "huabing(inte_top)\n",
    "','.join([x[0] for x in inte_top])"
   ]
  },
  {
   "cell_type": "code",
   "execution_count": null,
   "metadata": {},
   "outputs": [],
   "source": [
    "# 人名\n",
    "\n",
    "# ['nh'] 人名词\n",
    "people_top = get_top(posdict['nh']+ nedict['S-Nh'], num=25)\n",
    "pprint(people_top)\n",
    "huabing(people_top)"
   ]
  },
  {
   "cell_type": "code",
   "execution_count": null,
   "metadata": {},
   "outputs": [],
   "source": [
    "# 组织名\n",
    "\n",
    "# ['ni'] 组织名\n",
    "group_top = get_top(posdict['ni']+posdict['nz']+nedict['S-Ns'], num=5)\n",
    "pprint(group_top)\n",
    "huabing(group_top)\n"
   ]
  },
  {
   "cell_type": "code",
   "execution_count": null,
   "metadata": {},
   "outputs": [],
   "source": []
  },
  {
   "cell_type": "code",
   "execution_count": null,
   "metadata": {},
   "outputs": [],
   "source": []
  },
  {
   "cell_type": "code",
   "execution_count": null,
   "metadata": {},
   "outputs": [],
   "source": []
  },
  {
   "cell_type": "code",
   "execution_count": null,
   "metadata": {
    "scrolled": true
   },
   "outputs": [],
   "source": [
    "# 词性\n",
    "print(posdict.keys())\n"
   ]
  },
  {
   "cell_type": "code",
   "execution_count": null,
   "metadata": {},
   "outputs": [],
   "source": [
    "# ['i'] 成语\n",
    "pprint(get_top(posdict['i'], num=25))"
   ]
  },
  {
   "cell_type": "code",
   "execution_count": null,
   "metadata": {},
   "outputs": [],
   "source": [
    "\n",
    "# ['j'] 缩略词\n",
    "pprint(get_top(posdict['j'], num=25))\n"
   ]
  },
  {
   "cell_type": "code",
   "execution_count": null,
   "metadata": {},
   "outputs": [],
   "source": [
    "\n",
    "# ['n'] 名词\n",
    "pprint(get_top(posdict['n'], num=25))\n"
   ]
  },
  {
   "cell_type": "code",
   "execution_count": null,
   "metadata": {},
   "outputs": [],
   "source": [
    "\n",
    "# ['nh'] 人名词\n",
    "pprint(get_top(posdict['nh'], num=25))\n"
   ]
  },
  {
   "cell_type": "code",
   "execution_count": null,
   "metadata": {},
   "outputs": [],
   "source": [
    "\n",
    "# ['ni'] 组织名\n",
    "pprint(get_top(posdict['ni'], num=25))\n"
   ]
  },
  {
   "cell_type": "code",
   "execution_count": null,
   "metadata": {},
   "outputs": [],
   "source": [
    "\n",
    "# ['nz'] other proper name\n",
    "pprint(get_top(posdict['nz'], num=25))\n"
   ]
  },
  {
   "cell_type": "code",
   "execution_count": null,
   "metadata": {},
   "outputs": [],
   "source": [
    "\n",
    "# ['v'] verb len >= 2\n",
    "# pprint(get_top([x for x in posdict['v'] if len(x[0])>=2], num=25))\n"
   ]
  },
  {
   "cell_type": "code",
   "execution_count": null,
   "metadata": {},
   "outputs": [],
   "source": [
    "\n",
    "# foreign words\t\n",
    "pprint(get_top([x for x in posdict['ws'] if len(x[0])>=4 and not x[0].startswith('http://')], num=25))\n"
   ]
  },
  {
   "cell_type": "code",
   "execution_count": null,
   "metadata": {
    "scrolled": true
   },
   "outputs": [],
   "source": [
    "# 命名实体\n",
    "print(nedict.keys())\n"
   ]
  },
  {
   "cell_type": "code",
   "execution_count": null,
   "metadata": {},
   "outputs": [],
   "source": [
    "\n",
    "\n",
    "# 人名\n",
    "pprint(get_top(nedict['S-Nh'], num=25))\n"
   ]
  },
  {
   "cell_type": "code",
   "execution_count": null,
   "metadata": {},
   "outputs": [],
   "source": [
    "\n",
    "# 机构名\n",
    "pprint(get_top(nedict['S-Ni'], num=25))\n"
   ]
  },
  {
   "cell_type": "code",
   "execution_count": null,
   "metadata": {},
   "outputs": [],
   "source": [
    "\n",
    "# 地名\n",
    "pprint(get_top(nedict['S-Ns'], num=25))"
   ]
  },
  {
   "cell_type": "code",
   "execution_count": null,
   "metadata": {},
   "outputs": [],
   "source": [
    "# 以上内容均为自动生成..."
   ]
  },
  {
   "cell_type": "code",
   "execution_count": null,
   "metadata": {},
   "outputs": [],
   "source": []
  },
  {
   "cell_type": "code",
   "execution_count": null,
   "metadata": {},
   "outputs": [],
   "source": []
  }
 ],
 "metadata": {
  "kernelspec": {
   "display_name": "Python 3",
   "language": "python",
   "name": "python3"
  },
  "language_info": {
   "codemirror_mode": {
    "name": "ipython",
    "version": 3
   },
   "file_extension": ".py",
   "mimetype": "text/x-python",
   "name": "python",
   "nbconvert_exporter": "python",
   "pygments_lexer": "ipython3",
   "version": "3.6.8"
  }
 },
 "nbformat": 4,
 "nbformat_minor": 2
}
